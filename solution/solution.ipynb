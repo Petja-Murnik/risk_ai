{
 "cells": [
  {
   "cell_type": "markdown",
   "metadata": {},
   "source": [
    "# Risk AI workshop\n",
    "\n",
    "These are the sumarised solutions of the workshop of Paul Larsen.\n",
    "\n",
    "Authors: Špela Bernardič, Lea Holc, Petja Murnik\n",
    "\n",
    "We have acquired 8 points, that is, $2^1$ from Artificial intelligence for risk management,\n",
    " $2^1 + 2^2$ from Discrete geometry for risk, \n",
    " $2^1$ from Correlation and causality and\n",
    " $2^1$ from Adversarial regularization regimes in classification tasks. "
   ]
  },
  {
   "cell_type": "markdown",
   "metadata": {},
   "source": [
    "# Introduction-examples-exercises"
   ]
  },
  {
   "cell_type": "code",
   "execution_count": 2,
   "metadata": {},
   "outputs": [],
   "source": [
    "import os\n",
    "from pathlib import Path\n",
    "\n",
    "import numpy as np\n",
    "import pandas as pd\n",
    "from pandas.api.types import CategoricalDtype\n",
    "import xarray as xr\n",
    "\n",
    "from fake_data_for_learning.contingency_tables import calculate_contingency_table\n",
    "\n",
    "# Set (local) data directory\n",
    "datadir = Path(os.getcwd()) / 'data'\n",
    "path_or_url = datadir / 'default.csv'\n",
    "if not path_or_url.exists():\n",
    "    path_or_url = 'https://raw.githubusercontent.com/munichpavel/risk-ai-workshop/main/notebooks/data/default.csv'\n",
    "\n",
    "df = pd.read_csv(path_or_url, sep=',')    "
   ]
  },
  {
   "cell_type": "markdown",
   "metadata": {},
   "source": [
    "### Exercise: Data wrangling with pandas\n",
    "\n",
    "Difficulty: (*)\n",
    "\n",
    "Calculate the subpopulation ratio within the artifical [credit default data](https://github.com/munichpavel/risk-ai-workshop/blob/main/notebooks/data/default.csv) of \n",
    "\n",
    "* males among total population\n",
    "* females of occupation 0 (\"education\") who default (default = 1) among total population\n",
    "* males of occupation 0 (\"education\") who default (default=1) among total population"
   ]
  },
  {
   "cell_type": "code",
   "execution_count": 4,
   "metadata": {},
   "outputs": [
    {
     "name": "stdout",
     "output_type": "stream",
     "text": [
      "Male subpopulation ratio is 0.5143\n",
      "females of occupation 0 who default among total population ratio is 0.1641\n",
      "males of occupation 0 who default among total population ratio is 0.0618\n"
     ]
    }
   ],
   "source": [
    "n_records = df.shape[0]\n",
    "# prvo vprašanje\n",
    "df = pd.read_csv(path_or_url, sep=',')\n",
    "mask_male = df['gender'] == 1\n",
    "subpopulation_ratio = sum(mask_male) / n_records\n",
    "print(f'Male subpopulation ratio is {subpopulation_ratio}')\n",
    "\n",
    "# drugo vprašanje\n",
    "mask = ((df['gender'] == 0) & (df['occupation'] == 0) & (df['default']))\n",
    "subpopulation_ratio = sum(mask) / n_records\n",
    "print(f'females of occupation 0 who default among total population ratio is {subpopulation_ratio}')\n",
    "\n",
    "# tretje vprašanje\n",
    "mask = ((df['gender'] == 1) & (df['occupation'] == 0) & (df['default']))\n",
    "subpopulation_ratio = sum(mask) / n_records\n",
    "print(f'males of occupation 0 who default among total population ratio is {subpopulation_ratio}')"
   ]
  },
  {
   "cell_type": "markdown",
   "metadata": {},
   "source": [
    "# Probability-polytope-exercises"
   ]
  },
  {
   "cell_type": "code",
   "execution_count": 5,
   "metadata": {},
   "outputs": [],
   "source": [
    "def get_simplex_sample_v1(ambient_dimension):\n",
    "    \"\"\"\n",
    "    Get random element of the simplex of given ambient dimension\n",
    "\n",
    "    Parameters\n",
    "    ----------\n",
    "    ambient_dimension : int\n",
    "\n",
    "    Returns\n",
    "    -------\n",
    "    res : np.array\n",
    "    \"\"\"\n",
    "\n",
    "    res = np.random.uniform(size=ambient_dimension)\n",
    "    res = res / res.sum()\n",
    "\n",
    "    return res\n",
    "\n",
    "\n",
    "def get_simplex_sample_v2(ambient_dimension):\n",
    "    \"\"\"\n",
    "    Get random element of the probability simplex\n",
    "\n",
    "    Parameters\n",
    "    ----------\n",
    "    ambient_dimension : int\n",
    "\n",
    "    Returns\n",
    "    -------\n",
    "    res : np.array\n",
    "    \"\"\"\n",
    "\n",
    "    res = np.random.uniform(size=ambient_dimension-1)\n",
    "    res = np.sort(res)\n",
    "    res = np.insert(res, 0, 0)\n",
    "    res = np.append(res, 1)\n",
    "    res = np.diff(res)\n",
    "    \n",
    "    return res"
   ]
  },
  {
   "cell_type": "markdown",
   "metadata": {},
   "source": [
    "### Probability polytopes exercise: probability simplex\n",
    "\n",
    "* Describe in words and mathematical notation what the method `fake_data_for_learning.utils.get_simplex_sample` does. Difficulty: *\n",
    "\n",
    "Answer the same questions for the following two versions. Be sure to consider more than one choice of ambient dimension."
   ]
  },
  {
   "cell_type": "markdown",
   "metadata": {},
   "source": [
    "ANSWER 1: So basically it calculates a random element in a simplex( its vertices are of a type (0,0,0,...,0,1,0,...,0), where length of this vector is the ambient_dimension)"
   ]
  },
  {
   "cell_type": "markdown",
   "metadata": {},
   "source": [
    "* Test if the method `fake_data_for_learning.utils.get_simplex_sample` generates uniformly distributed samples from the probability simplex. Difficulty: **\n",
    "\n",
    "Answer the same questions for the following two versions. Be sure to consider more than one choice of ambient dimension."
   ]
  },
  {
   "cell_type": "code",
   "execution_count": 6,
   "metadata": {},
   "outputs": [
    {
     "name": "stdout",
     "output_type": "stream",
     "text": [
      "Chi-Square Statistic: 1999.366500847868\n",
      "P-Value: 1.0\n"
     ]
    }
   ],
   "source": [
    "from scipy.stats import chi2_contingency\n",
    "\n",
    "ambient_dimension = 4\n",
    "n_samples = 1000\n",
    "bins_per_dimension = 50\n",
    "\n",
    "samples = np.array([get_simplex_sample_v1(ambient_dimension) for _ in range(n_samples)])\n",
    "\n",
    "def test_uniformity_high_dim(samples, bins_per_dimension):\n",
    "    \"\"\"\n",
    "    Test if the samples are uniformly distributed over the simplex without reducing dimensions.\n",
    "\n",
    "    Parameters\n",
    "    ----------\n",
    "    samples : np.array\n",
    "    bins_per_dimension : int\n",
    "    \n",
    "    Returns\n",
    "    -------\n",
    "    chi2 : float\n",
    "    p_value : float\n",
    "    \"\"\"\n",
    "    n_samples, ambient_dimension = samples.shape\n",
    "    \n",
    "    # Create multidimensional bins\n",
    "    hist, edges = np.histogramdd(samples, bins=bins_per_dimension)\n",
    "    \n",
    "    # Flatten the histogram\n",
    "    hist = hist.flatten()\n",
    "    \n",
    "    # Calculate the expected counts assuming uniform distribution\n",
    "    expected_count = n_samples / len(hist)\n",
    "    expected = np.full_like(hist, expected_count)\n",
    "    \n",
    "    # Perform the Chi-Square test\n",
    "    chi2, p_value = chi2_contingency([hist, expected])[:2]\n",
    "    \n",
    "    return chi2, p_value\n",
    "\n",
    "chi2, p_value = test_uniformity_high_dim(samples, bins_per_dimension)\n",
    "\n",
    "print(f\"Chi-Square Statistic: {chi2}\")\n",
    "print(f\"P-Value: {p_value}\")"
   ]
  },
  {
   "cell_type": "markdown",
   "metadata": {},
   "source": [
    "ANSWER 2: For the values calculated above one can conclude that it really is uniformly distributed ( failed to reject the null hypothesis from the chi^2 test that it is not uniformly distributed)"
   ]
  },
  {
   "cell_type": "markdown",
   "metadata": {},
   "source": [
    "# Causal-models-exercises"
   ]
  },
  {
   "cell_type": "markdown",
   "metadata": {},
   "source": [
    "### Causal models exercise: do-calculus\n",
    "\n",
    "As before, take K to be your Karma, H to be the hours you spend in the gym lifting weight, and then W be the weight you can bench press. \n",
    "\n",
    "You are the parent of a very young child, so Karma will punish you for devoting too much time to your triceps and neglecting your partner and baby. Let $G$ be this causal graph, as shown below."
   ]
  },
  {
   "cell_type": "code",
   "execution_count": 20,
   "metadata": {},
   "outputs": [
    {
     "data": {
      "image/png": "[encoded data removed]",
      "text/plain": [
       "<Figure size 640x480 with 1 Axes>"
      ]
     },
     "metadata": {},
     "output_type": "display_data"
    }
   ],
   "source": [
    "import os\n",
    "from pathlib import Path\n",
    "\n",
    "import numpy as np\n",
    "import pandas as pd\n",
    "import xarray as xr\n",
    "\n",
    "# Only needed to generate graphs, may be safely ommitted \n",
    "# once you comment out relevant cells below\n",
    "import networkx as nx\n",
    "import matplotlib.pyplot as plt\n",
    "\n",
    "# Create a directed graph\n",
    "G = nx.DiGraph()\n",
    "\n",
    "# Add nodes\n",
    "G.add_node('K')\n",
    "G.add_node('H')\n",
    "G.add_node('W')\n",
    "\n",
    "# Add edges\n",
    "G.add_edge('K', 'H')\n",
    "G.add_edge('K', 'W')\n",
    "G.add_edge('H', 'W')\n",
    "\n",
    "# Draw the graph\n",
    "pos = nx.circular_layout(G)  # positions for all nodes\n",
    "nx.draw(G, pos, with_labels=True, node_color='lightblue', edge_color='gray', node_size=4000, font_size=15, font_color='black')\n",
    "\n",
    "plt.show()\n",
    "\n"
   ]
  },
  {
   "cell_type": "markdown",
   "metadata": {},
   "source": [
    "1. Draw the graphs $G_{\\underline{W}}$ and $G_{\\overline{H}}$. Difficulty: *"
   ]
  },
  {
   "cell_type": "code",
   "execution_count": 31,
   "metadata": {},
   "outputs": [
    {
     "data": {
      "image/png": "[encoded data removed]",
      "text/plain": [
       "<Figure size 640x480 with 1 Axes>"
      ]
     },
     "metadata": {},
     "output_type": "display_data"
    }
   ],
   "source": [
    "# Create a directed graph\n",
    "G_W = nx.DiGraph()\n",
    "\n",
    "# Add nodes\n",
    "G_W.add_node('K')\n",
    "G_W.add_node('H')\n",
    "G_W.add_node('W')\n",
    "\n",
    "# Add edges\n",
    "G_W.add_edge('K', 'H')\n",
    "\n",
    "# Draw the graph\n",
    "pos = nx.circular_layout(G_W)  # Layout for better spacing\n",
    "nx.draw(G_W, pos, with_labels=True, node_color='lightblue', edge_color='gray', node_size=4000, font_size=15, font_color='black')\n",
    "plt.title('Graph G_W')\n",
    "plt.show()"
   ]
  },
  {
   "cell_type": "code",
   "execution_count": 27,
   "metadata": {},
   "outputs": [
    {
     "data": {
      "image/png": "[encoded data removed]",
      "text/plain": [
       "<Figure size 640x480 with 1 Axes>"
      ]
     },
     "metadata": {},
     "output_type": "display_data"
    }
   ],
   "source": [
    "# Create a directed graph\n",
    "G_H = nx.DiGraph()\n",
    "\n",
    "# Add nodes\n",
    "G_H.add_node('K')\n",
    "G_H.add_node('H')\n",
    "G_H.add_node('W')\n",
    "\n",
    "# Add edges\n",
    "G_H.add_edge('K', 'H')\n",
    "G_H.add_edge('K', 'W')\n",
    "\n",
    "# Draw the graph\n",
    "pos = nx.circular_layout(G_H)  # Layout for better spacing\n",
    "nx.draw(G_H, pos, with_labels=True, node_color='lightblue', edge_color='gray', node_size=4000, font_size=15, font_color='black')\n",
    "plt.title('Graph G_H')\n",
    "plt.show()"
   ]
  },
  {
   "cell_type": "markdown",
   "metadata": {},
   "source": [
    "# Adversarial-ml-examples-exercises"
   ]
  },
  {
   "cell_type": "code",
   "execution_count": 35,
   "metadata": {},
   "outputs": [],
   "source": [
    "import os\n",
    "from pathlib import Path\n",
    "\n",
    "import pandas as pd\n",
    "from sklearn.linear_model import LogisticRegression, LogisticRegressionCV\n",
    "import numpy as np\n",
    "\n",
    "# from risk_learning.arr import (\n",
    "#     convert_to_categorical,\n",
    "#     make_feature_combination_array,\n",
    "#     make_feature_combination_score_array,\n",
    "#     make_trend_reports, \n",
    "#     make_data_trend_reports\n",
    "# )\n",
    "\n",
    "current_dir = Path(os.getcwd())\n",
    "new_dir = Path(str(current_dir).replace('solution', 'notebooks'))\n",
    "data_path = new_dir / 'data' / 'adversarial-default-for-x-validation.csv'\n",
    "df = pd.read_csv(data_path)\n",
    "\n",
    "# label_mapping_values = dict(gender=[0, 1], occupation=[0, 1])\n",
    "# data_categories = label_mapping_values.copy()\n",
    "# data_categories['default'] = [0, 1]\n",
    "# df = convert_to_categorical(df, data_categories)"
   ]
  },
  {
   "cell_type": "markdown",
   "metadata": {},
   "source": [
    "### Exercise: Simpson or not?\n",
    "\n",
    "Difficulty: (*)\n",
    "\n",
    "Prove that this dataset exhibites Simpson's paradox."
   ]
  },
  {
   "cell_type": "code",
   "execution_count": 36,
   "metadata": {},
   "outputs": [
    {
     "data": {
      "text/html": [
       "<div>\n",
       "<style scoped>\n",
       "    .dataframe tbody tr th:only-of-type {\n",
       "        vertical-align: middle;\n",
       "    }\n",
       "\n",
       "    .dataframe tbody tr th {\n",
       "        vertical-align: top;\n",
       "    }\n",
       "\n",
       "    .dataframe thead th {\n",
       "        text-align: right;\n",
       "    }\n",
       "</style>\n",
       "<table border=\"1\" class=\"dataframe\">\n",
       "  <thead>\n",
       "    <tr style=\"text-align: right;\">\n",
       "      <th></th>\n",
       "      <th>Ženske</th>\n",
       "      <th>Moski</th>\n",
       "    </tr>\n",
       "  </thead>\n",
       "  <tbody>\n",
       "    <tr>\n",
       "      <th>occupation 0</th>\n",
       "      <td>0.770936</td>\n",
       "      <td>1.000000</td>\n",
       "    </tr>\n",
       "    <tr>\n",
       "      <th>occupation 1</th>\n",
       "      <td>0.045455</td>\n",
       "      <td>0.276471</td>\n",
       "    </tr>\n",
       "    <tr>\n",
       "      <th>occupation 0&amp;1</th>\n",
       "      <td>0.733645</td>\n",
       "      <td>0.284884</td>\n",
       "    </tr>\n",
       "  </tbody>\n",
       "</table>\n",
       "</div>"
      ],
      "text/plain": [
       "                  Ženske     Moski\n",
       "occupation 0    0.770936  1.000000\n",
       "occupation 1    0.045455  0.276471\n",
       "occupation 0&1  0.733645  0.284884"
      ]
     },
     "execution_count": 36,
     "metadata": {},
     "output_type": "execute_result"
    }
   ],
   "source": [
    "n_records = df.shape[0]\n",
    "\n",
    "mask_100 = ((df['gender'] == 1) & (df['occupation'] == 0) & (df['default'] == 1)) \n",
    "mask_10_ = ((df['gender'] == 1) & (df['occupation'] == 0)) \n",
    "P_100_10_ = sum(mask_100) / sum(mask_10_) # verjetnost da si moski z ocupation 0 in defaultas med vsemi moskimi z ocupation 0\n",
    "\n",
    "# enako samo da imas occupation 1\n",
    "mask_110 = ((df['gender'] == 1) & (df['occupation'] == 1) & (df['default'] == 1)) \n",
    "mask_11_ = ((df['gender'] == 1) & (df['occupation'] == 1)) \n",
    "P_110_11_ = sum(mask_110) / sum(mask_11_) # verjetnost da si moski z ocupation 1 in defaultas med vsemi moskimi z ocupation 1\n",
    "\n",
    "# enako samo da ne gledas ocupationa\n",
    "mask_10 = ((df['gender'] == 1)  & (df['default'] == 1)) \n",
    "mask_1_ = ((df['gender'] == 1)) \n",
    "P_10__1_ = sum(mask_10) / sum(mask_1_) # verjetnost da si moski  in defaultas med vsemi moskimi \n",
    "\n",
    "\n",
    "## enako samo da si zenska\n",
    "\n",
    "mask_000 = ((df['gender'] == 0) & (df['occupation'] == 0) & (df['default'] == 1)) \n",
    "mask_00_ = ((df['gender'] == 0) & (df['occupation'] == 0)) \n",
    "P_000_00_ = sum(mask_000) / sum(mask_00_) # verjetnost da si zenska z ocupation 0 in defaultas med vsemi zenskami z ocupation 0\n",
    "\n",
    "# enako samo da imas occupation 1\n",
    "mask_010 = ((df['gender'] == 0) & (df['occupation'] == 1) & (df['default'] == 1)) \n",
    "mask_01_ = ((df['gender'] == 0) & (df['occupation'] == 1)) \n",
    "P_010_01_ = sum(mask_010) / sum(mask_01_) # verjetnost da si zenska z ocupation 1 in defaultas med vsemi zenska z ocupation 1\n",
    "\n",
    "# enako samo da ne gledas ocupationa\n",
    "mask_00 = ((df['gender'] == 0)  & (df['default'] == 1)) \n",
    "mask_0_ = ((df['gender'] == 0)) \n",
    "P_00__0_ = sum(mask_00) / sum(mask_0_) # verjetnost da si zenska  in defaultas med vsemi zenskami \n",
    "\n",
    "\n",
    "tabela = pd.DataFrame( {'Ženske' :[P_000_00_, P_010_01_, P_00__0_],\n",
    "                      'Moski': [P_100_10_, P_110_11_, P_10__1_]} ,  index=['occupation 0', 'occupation 1', 'occupation 0&1'])\n",
    "tabela"
   ]
  },
  {
   "cell_type": "markdown",
   "metadata": {},
   "source": [
    "In the table above, the proportions of defaults are calculated conditional on gender and occupation. For both occupations, the proportion of defaults is higher if you are male. In the third row, however, the proportion of defaults is calculated independently of occupation, where the proportion of defaults is higher for females. Therefore, we have a case of Simpson's paradox."
   ]
  }
 ],
 "metadata": {
  "kernelspec": {
   "display_name": "myenv",
   "language": "python",
   "name": "python3"
  },
  "language_info": {
   "codemirror_mode": {
    "name": "ipython",
    "version": 3
   },
   "file_extension": ".py",
   "mimetype": "text/x-python",
   "name": "python",
   "nbconvert_exporter": "python",
   "pygments_lexer": "ipython3",
   "version": "3.9.1"
  }
 },
 "nbformat": 4,
 "nbformat_minor": 2
}
