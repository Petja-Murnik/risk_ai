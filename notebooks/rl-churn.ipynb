{
 "cells": [
  {
   "cell_type": "markdown",
   "metadata": {},
   "source": [
    "# Predicting customer churn\n",
    "\n",
    "Churn prediction--predicting whether a customer will stay or leave a company--is one of the more popular applications of machine learning for business, especially among consulting companies trying to sell their services.\n",
    "\n",
    "Typically the performance of a churn classifier (0 for customer stays, 1 for customer leaves, i.e. churns) is evaluated by a standard metric such as accuracy, precision, recall or ROC-AUC. In real-life, these metrics can be misleading, as they do not reflect the costs and benefits of the different outcomes being summarized by a given metric.\n",
    "\n",
    "In the case of churn, these costs and benefits can be made very explicit in terms of the classifier's confusion matrix, https://scikit-learn.org/stable/modules/generated/sklearn.metrics.confusion_matrix.html.\n",
    "\n",
    "\\begin{equation*}\n",
    "C =  \n",
    "\\begin{pmatrix}\n",
    "\\mathrm{true \\, positives} &  \\mathrm{false \\, positives}  \\\\\n",
    "\\mathrm{false \\, negatives} &  \\mathrm{true \\, negatives}\n",
    "\\end{pmatrix},\n",
    "\\end{equation*}\n",
    "\n",
    "or, more generally, for a classifer with $n$ outcomes, the entries of the confusion matrix $C = (C_{ij})$ are the counts of observations known to be in class $i$ and predicted to be in class $j$.\n",
    "\n",
    "To calculate a business-relevant metric, we need to know the cost for trying to retain a customer and the benefit of retaining a customer.\n",
    "\n",
    "## Churn reward: simplest case\n",
    "\n",
    "The first case we consider is for a single action of sending customers an email. The reward is the revenue from the customer over the next year minux expenses per customer. Let's make the assumptions more explicit, and flag the ones that are reasonable or not as an approximation of reality.\n",
    "\n",
    "* action $a$ is defined by $a \\in (0,1) \\leftrightarrow (\\mathrm{no\\,email\\,sent}, \\mathrm{email\\,sent})$ has a fixed cost for all customers (reasonable),\n",
    "* there are no costs except the marketing action above (unreasonable)\n",
    "* revenue $\\mathrm{rev}$ is the same for all customers (unreasonable):\n",
    "\n",
    "\\begin{equation*}\n",
    "\\mathrm{rev} = \\begin{cases}\n",
    "0,  & \\text{if customer churns} \\\\\n",
    "\\mathrm{rev}_1, & \\text{if customer stays}\n",
    "\\end{cases}\n",
    "\\end{equation*}\n",
    "\n",
    "## References\n",
    "\n",
    "* Sutton and Bartol, Reinforcement Learning, Chapter 2\n",
    "* ??? A Multi-Armed Bandit Approach for Online Expert\n",
    "Selection in Markov Decision Processes, https://arxiv.org/pdf/1707.05714.pdf\n",
    "\n"
   ]
  },
  {
   "cell_type": "code",
   "execution_count": null,
   "metadata": {},
   "outputs": [],
   "source": [
    "import os\n",
    "from pathlib import Path\n",
    "import pickle\n",
    "\n",
    "from pprint import pprint\n",
    "\n",
    "import pandas as pd\n",
    "import numpy as np\n",
    "\n",
    "from sklearn.preprocessing import LabelBinarizer, StandardScaler, OneHotEncoder, LabelEncoder\n",
    "from sklearn.preprocessing import FunctionTransformer\n",
    "\n",
    "\n",
    "from sklearn_pandas import DataFrameMapper\n",
    "\n",
    "import fake_data_for_learning\n",
    "from fake_data_for_learning import SampleValue\n",
    "\n",
    "from risk_learning.config import filenames\n",
    "\n",
    "%matplotlib inline"
   ]
  },
  {
   "cell_type": "markdown",
   "metadata": {},
   "source": [
    "## Churn data"
   ]
  },
  {
   "cell_type": "code",
   "execution_count": null,
   "metadata": {},
   "outputs": [],
   "source": [
    "df = pd.read_csv(filenames.fake_churn)\n",
    "cols = ['year', 'gender', 'age', 'profession', 'action', 'churn']\n",
    "df[cols].head()"
   ]
  },
  {
   "cell_type": "code",
   "execution_count": null,
   "metadata": {},
   "outputs": [],
   "source": [
    "def summarize_counts(data):\n",
    "    '''\n",
    "    Parameters\n",
    "    ----------\n",
    "    data : pandas.Series\n",
    "        Data whose counts are to be summarized\n",
    "    '''\n",
    "    counts = data.value_counts()\n",
    "    print(counts)\n",
    "    counts.sort_index().plot(kind='bar')"
   ]
  },
  {
   "cell_type": "code",
   "execution_count": null,
   "metadata": {},
   "outputs": [],
   "source": [
    "summarize_counts(df['year'])"
   ]
  },
  {
   "cell_type": "code",
   "execution_count": null,
   "metadata": {},
   "outputs": [],
   "source": [
    "summarize_counts(df['gender'])"
   ]
  },
  {
   "cell_type": "code",
   "execution_count": null,
   "metadata": {},
   "outputs": [],
   "source": [
    "summarize_counts(df['age'])"
   ]
  },
  {
   "cell_type": "code",
   "execution_count": null,
   "metadata": {},
   "outputs": [],
   "source": [
    "summarize_counts(df['profession'])"
   ]
  },
  {
   "cell_type": "code",
   "execution_count": null,
   "metadata": {},
   "outputs": [],
   "source": [
    "summarize_counts(df['action'])"
   ]
  },
  {
   "cell_type": "code",
   "execution_count": null,
   "metadata": {},
   "outputs": [],
   "source": [
    "summarize_counts(df['churn'])"
   ]
  },
  {
   "cell_type": "markdown",
   "metadata": {},
   "source": [
    "## Revenue per customer"
   ]
  },
  {
   "cell_type": "code",
   "execution_count": null,
   "metadata": {},
   "outputs": [],
   "source": [
    "r_gender = np.array([0.6, 0.4]).reshape(2,1,1)\n",
    "r_age = np.array([0.5, 1, 0.75]).reshape(1,3,1)\n",
    "r_profession = np.array([1.5, 1, 0.5, 0.7]).reshape(1,1,4)\n",
    "revenue = 1000 * r_gender * r_age * r_profession\n",
    "revenue"
   ]
  },
  {
   "cell_type": "markdown",
   "metadata": {},
   "source": [
    "## Preprocess\n",
    "\n",
    "To access elements in the revenue matrix, we use a label encoder on the customer data."
   ]
  },
  {
   "cell_type": "code",
   "execution_count": null,
   "metadata": {},
   "outputs": [],
   "source": [
    "mapper = DataFrameMapper([\n",
    "    ('gender', LabelEncoder()),\n",
    "    ('age', LabelEncoder()),\n",
    "    ('profession', LabelEncoder()),\n",
    "    ('action', LabelEncoder())#id_trans)\n",
    "])\n",
    "\n",
    "data4revenue = pd.DataFrame(\n",
    "    mapper.fit_transform(df),\n",
    "    columns=mapper.transformed_names_\n",
    ").astype(int)\n",
    "data4revenue.head()"
   ]
  },
  {
   "cell_type": "code",
   "execution_count": null,
   "metadata": {},
   "outputs": [],
   "source": [
    "with open(filenames.churn_bn, 'rb') as f:\n",
    "    churn_bn = pickle.load(f)\n",
    "churn_rv = churn_bn.get_node('churn')"
   ]
  },
  {
   "cell_type": "code",
   "execution_count": null,
   "metadata": {},
   "outputs": [],
   "source": [
    "print(f\"Have {df.shape[0]} customers. First action is to pick one for contact according to some policy.\")\n",
    "print(\"Take policy of contacting first customer in list.\")"
   ]
  },
  {
   "cell_type": "code",
   "execution_count": null,
   "metadata": {},
   "outputs": [],
   "source": [
    "idx=4\n",
    "record = df.to_dict(orient=\"records\")[idx]\n",
    "print('Current customer:')\n",
    "customer = {key: record[key] for key in record.keys() if key in ['age', 'gender', 'profession']}\n",
    "pprint(customer)\n",
    "\n",
    "print('\\nWith hidden nodes:')\n",
    "#pprint(record)\n",
    "\n",
    "parent_values = {key: SampleValue(record[key], churn_bn.get_node(key).label_encoder) for key in record.keys() if key in ['patience', 'thriftiness']}\n",
    "# Assign action value to 1\n",
    "parent_values['action'] = SampleValue(1)\n",
    "#parent_values['action'] = SampleValue(0)\n",
    "res = churn_rv.rvs(parent_values=parent_values, size=1)\n",
    "#print(f'\\nSimulated churn: {res}')\n",
    "print(f'Mean of simulated churn: {np.mean(res)}')"
   ]
  },
  {
   "cell_type": "code",
   "execution_count": null,
   "metadata": {},
   "outputs": [],
   "source": [
    "# Calculate revenue for no-churn (retention)\n",
    "r_idx = revenue[data4revenue.loc[idx, 'gender'], data4revenue.loc[idx, 'age'], data4revenue.loc[idx, 'profession']]\n",
    "r_idx"
   ]
  },
  {
   "cell_type": "code",
   "execution_count": null,
   "metadata": {},
   "outputs": [],
   "source": [
    "reward_idx = (1-res[0]) * r_idx\n",
    "reward_idx"
   ]
  },
  {
   "cell_type": "markdown",
   "metadata": {},
   "source": [
    "## Churn as a multi-armed bandit\n",
    "\n",
    "Customer churn can be modeled as one of the classic applications of reinforcement. The *multi-armed bandit* problem is a thought-experiment generalization of a casino slot machine ('one-armed bandit') to a slot-machine  with $n$-different arms. Each of the arms gives a reward $r_i$ with probability $p_i$, $i = 1, ..., n$. The task is to determine which of the $n$ arms maximizes your reward.\n",
    "\n",
    "In the context of customer churn, the analogue of slot-machine 'arms' are the different combinations of customer features, of which there are\n",
    "\n",
    "$n = |\\textrm{age}| \\times |\\textrm{gender}| \\times |\\textrm{profession}| = 3 \\times 2 \\times 4 = 24$\n",
    "\n",
    "The task is to find which of 24 customer types maximizes the reward."
   ]
  },
  {
   "cell_type": "markdown",
   "metadata": {},
   "source": [
    "### Greedy methods\n",
    "\n",
    "Denote\n",
    "\n",
    "* $a$: action, contact one of the $n$ customer types\n",
    "* $q(a)$: true (i.e. mean) reward for action $a$\n",
    "\n",
    "The first task is to estimate $q(a)$ given observed rewards $R_1(a), R_2(a), ...$ from action $a$. Set\n",
    "\n",
    "* $R_1(a), \\ldots, R_{N_t(a)}(a)$ to be the rewards of action $a$ up through time $N_t(a)$\n",
    "\n",
    "so an estimate for $q(a)$ is the average\n",
    "\n",
    "\\begin{equation*}\n",
    "Q_t(a) = \\frac{R_1(a) + ... + R_{N_t(a)}(a)}{N_t(a)}\n",
    "\\end{equation*}\n",
    "\n",
    "Note that, unlike the standard multi-armed bandit, the reward for churn must be calculated over all customers, whether contacted or not, as some customers will remain even if not contacted.\n",
    "\n",
    "**Exercise** Show that the above equation for $Q_t(a)$ can be reformulated as follows, where $Q_k(a)$ is the average of first $k$ awards for choosing $a$,\n",
    "\n",
    "\\begin{equation*}\n",
    "Q_{k+1} = Q_k + \\frac{1}{k} \\left[ R_k - Q_k \\right]\n",
    "\\end{equation*}"
   ]
  },
  {
   "cell_type": "code",
   "execution_count": null,
   "metadata": {},
   "outputs": [],
   "source": [
    "# Case of contacting 1 customer per year / underwriting cycle\n",
    "\n",
    "#customer_universe\n",
    "\n",
    "from itertools import product\n",
    "age_rv = churn_bn.get_node('age')\n",
    "gender_rv = churn_bn.get_node('gender')\n",
    "profession_rv = churn_bn.get_node('profession')\n",
    "customer_types = product(*[age_rv.values, gender_rv.values, profession_rv.values])\n",
    "for age, gender, profession in customer_types:\n",
    "    print(age, gender, profession)\n",
    "  "
   ]
  },
  {
   "cell_type": "code",
   "execution_count": null,
   "metadata": {},
   "outputs": [],
   "source": [
    "year = 2010\n",
    "sample = df.loc[np.logical_and(df['year'] == year, df['churn'] == 0), :].reset_index(drop=True)\n",
    "sample = data.groupby(['age', 'gender', 'profession']).first()\n",
    "sample.reset_index(inplace=True)\n",
    "\n",
    "\n",
    "action_idx = 0\n",
    "\n",
    "rewards = []\n",
    "\n",
    "for idx in range(sample.shape[0]):\n",
    "    record = sample.to_dict(orient=\"records\")[idx]\n",
    "    print('Current customer:')\n",
    "    customer = {key: record[key] for key in record.keys() if key in ['age', 'gender', 'profession']}\n",
    "    pprint(customer)\n",
    "\n",
    "#    print('\\nWith hidden nodes:')\n",
    "    #pprint(record)\n",
    "\n",
    "    parent_values = {key: SampleValue(record[key], churn_bn.get_node(key).label_encoder) for key in record.keys() if key in ['patience', 'thriftiness']}\n",
    "    # Assign action value to 1\n",
    "    if idx == action_idx:\n",
    "        parent_values['action'] = SampleValue(1)\n",
    "    else:\n",
    "        parent_values['action'] = SampleValue(0)\n",
    "    res = churn_rv.rvs(parent_values=parent_values, size=1)\n",
    "    \n",
    "    \n",
    "#    print(f'\\nSimulated churn: {res}')\n",
    "    \n",
    "    r_idx = revenue[data4revenue.loc[idx, 'gender'], data4revenue.loc[idx, 'age'], data4revenue.loc[idx, 'profession']]\n",
    "    reward_idx = (1-res[0]) * r_idx\n",
    "#    print(reward_idx)\n",
    "    rewards.append(reward_idx)\n",
    "print(rewards)"
   ]
  },
  {
   "cell_type": "markdown",
   "metadata": {},
   "source": [
    "**Question** Consider the customers from year 2012. What could go wrong in this year?"
   ]
  },
  {
   "cell_type": "code",
   "execution_count": null,
   "metadata": {},
   "outputs": [],
   "source": []
  }
 ],
 "metadata": {
  "kernelspec": {
   "display_name": "Python 3",
   "language": "python",
   "name": "python3"
  },
  "language_info": {
   "codemirror_mode": {
    "name": "ipython",
    "version": 3
   },
   "file_extension": ".py",
   "mimetype": "text/x-python",
   "name": "python",
   "nbconvert_exporter": "python",
   "pygments_lexer": "ipython3",
   "version": "3.7.3"
  }
 },
 "nbformat": 4,
 "nbformat_minor": 2
}
