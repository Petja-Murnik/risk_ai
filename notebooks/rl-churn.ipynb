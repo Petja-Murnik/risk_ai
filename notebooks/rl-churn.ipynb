{
 "cells": [
  {
   "cell_type": "markdown",
   "metadata": {},
   "source": [
    "# Predicting customer churn\n",
    "\n",
    "Churn prediction--predicting whether a customer will stay or leave a company--is one of the more popular applications of machine learning for business, especially among consulting companies trying to sell their services.\n",
    "\n",
    "Typically the performance of a churn classifier (0 for customer stays, 1 for customer leaves, i.e. churns) is evaluated by a standard metric such as accuracy, precision, recall or ROC-AUC. In real-life, these metrics can be misleading, as they do not reflect the costs and benefits of the different outcomes being summarized by a given metric.\n",
    "\n",
    "In the case of churn, these costs and benefits can be made very explicit in terms of the classifier's confusion matrix, https://scikit-learn.org/stable/modules/generated/sklearn.metrics.confusion_matrix.html.\n",
    "\n",
    "\\begin{equation*}\n",
    "C =  \n",
    "\\begin{pmatrix}\n",
    "\\mathrm{true \\, positives} &  \\mathrm{false \\, positives}  \\\\\n",
    "\\mathrm{false \\, negatives} &  \\mathrm{true \\, negatives}\n",
    "\\end{pmatrix},\n",
    "\\end{equation*}\n",
    "\n",
    "or, more generally, for a classifer with $n$ outcomes, the entries of the confusion matrix $C = (C_{ij})$ are the counts of observations known to be in class $i$ and predicted to be in class $j$.\n",
    "\n",
    "To calculate a business-relevant metric, we need to know the cost for trying to retain a customer and the benefit of retaining a customer.\n",
    "\n",
    "## Churn reward: simplest case\n",
    "\n",
    "The first case we consider is for a single action of sending customers an email. The reward is the revenue from the customer over the next year minux expenses per customer. Let's make the assumptions more explicit, and flag the ones that are reasonable or not as an approximation of reality.\n",
    "\n",
    "* action $a$ is defined by $a \\in (0,1) \\leftrightarrow (\\mathrm{no\\,email\\,sent}, \\mathrm{email\\,sent})$ has a fixed cost for all customers (reasonable),\n",
    "* there are no costs except the marketing action above (unreasonable)\n",
    "* revenue $\\mathrm{rev}$ is the same for all customers (unreasonable):\n",
    "\n",
    "\\begin{equation*}\n",
    "\\mathrm{rev} = \\begin{cases}\n",
    "0,  & \\text{if customer churns} \\\\\n",
    "\\mathrm{rev}_1, & \\text{if customer stays}\n",
    "\\end{cases}\n",
    "\\end{equation*}\n",
    "\n",
    "The first task is to cast this setup as a *Markov Decision Process*"
   ]
  },
  {
   "cell_type": "code",
   "execution_count": null,
   "metadata": {},
   "outputs": [],
   "source": [
    "import os\n",
    "from pathlib import Path\n",
    "import pickle\n",
    "\n",
    "import pandas as pd\n",
    "import numpy as np\n",
    "\n",
    "from sklearn.preprocessing import LabelBinarizer, StandardScaler, OneHotEncoder\n",
    "from sklearn.preprocessing import FunctionTransformer\n",
    "\n",
    "\n",
    "from sklearn_pandas import DataFrameMapper\n",
    "\n",
    "import fake_data_for_learning\n",
    "\n",
    "from risk_learning.config import filenames\n",
    "\n",
    "%matplotlib inline"
   ]
  },
  {
   "cell_type": "markdown",
   "metadata": {},
   "source": [
    "## Churn data"
   ]
  },
  {
   "cell_type": "code",
   "execution_count": null,
   "metadata": {},
   "outputs": [],
   "source": [
    "df = pd.read_csv(filenames.fake_churn_rl)\n",
    "df.head()"
   ]
  },
  {
   "cell_type": "markdown",
   "metadata": {},
   "source": [
    "## Preprocess"
   ]
  },
  {
   "cell_type": "code",
   "execution_count": null,
   "metadata": {},
   "outputs": [],
   "source": [
    "def id_map(x):\n",
    "    return x\n",
    "\n",
    "id_trans = FunctionTransformer(id_map, validate=True)\n",
    "\n",
    "mapper = DataFrameMapper([\n",
    "    ('gender', LabelBinarizer()),\n",
    "    (['age'], StandardScaler()),\n",
    "    (['profession'], OneHotEncoder()),\n",
    "    (['action'], id_trans)\n",
    "])\n",
    "\n",
    "data = pd.DataFrame(\n",
    "    mapper.fit_transform(df),\n",
    "    columns=mapper.transformed_names_\n",
    ")\n",
    "data.head()"
   ]
  },
  {
   "cell_type": "code",
   "execution_count": null,
   "metadata": {},
   "outputs": [],
   "source": [
    "with open(filenames.churn_bn, 'rb') as f:\n",
    "    churn_bn = pickle.load(f)"
   ]
  }
 ],
 "metadata": {
  "kernelspec": {
   "display_name": "Python 3",
   "language": "python",
   "name": "python3"
  },
  "language_info": {
   "codemirror_mode": {
    "name": "ipython",
    "version": 3
   },
   "file_extension": ".py",
   "mimetype": "text/x-python",
   "name": "python",
   "nbconvert_exporter": "python",
   "pygments_lexer": "ipython3",
   "version": "3.7.3"
  }
 },
 "nbformat": 4,
 "nbformat_minor": 2
}
