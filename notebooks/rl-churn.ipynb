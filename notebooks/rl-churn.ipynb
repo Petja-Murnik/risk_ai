{
 "cells": [
  {
   "cell_type": "markdown",
   "metadata": {},
   "source": [
    "# Predicting customer churn\n",
    "\n",
    "Churn prediction--predicting whether a customer will stay or leave a company--is one of the more popular applications of machine learning for business, especially among consulting companies trying to sell their services.\n",
    "\n",
    "Typically the performance of a churn classifier (0 for customer stays, 1 for customer leaves, i.e. churns) is evaluated by a standard metric such as accuracy, precision, recall or ROC-AUC. In real-life, these metrics can be misleading, as they do not reflect the costs and benefits of the different outcomes being summarized by a given metric.\n",
    "\n",
    "In the case of churn, these costs and benefits can be made very explicit in terms of the classifier's confusion matrix, https://scikit-learn.org/stable/modules/generated/sklearn.metrics.confusion_matrix.html.\n",
    "\n",
    "\\begin{equation*}\n",
    "C =  \n",
    "\\begin{pmatrix}\n",
    "\\mathrm{true \\, positives} &  \\mathrm{false \\, positives}  \\\\\n",
    "\\mathrm{false \\, negatives} &  \\mathrm{true \\, negatives}\n",
    "\\end{pmatrix},\n",
    "\\end{equation*}\n",
    "\n",
    "or, more generally, for a classifer with $n$ outcomes, the entries of the confusion matrix $C = (C_{ij})$ are the counts of observations known to be in class $i$ and predicted to be in class $j$.\n",
    "\n",
    "To calculate a business-relevant metric, we need to know the cost for trying to retain a customer and the benefit of retaining a customer.\n",
    "\n",
    "## Churn reward: simplest case\n",
    "\n",
    "The first case we consider is for a single action of sending customers an email. The reward is the revenue from the customer over the next year minux expenses per customer. Let's make the assumptions more explicit, and flag the ones that are reasonable or not as an approximation of reality.\n",
    "\n",
    "* action $a$ is defined by $a \\in (0,1) \\leftrightarrow (\\mathrm{no\\,email\\,sent}, \\mathrm{email\\,sent})$ has a fixed cost for all customers (reasonable),\n",
    "* there are no costs except the marketing action above (unreasonable)\n",
    "* revenue $\\mathrm{rev}$ is the same for all customers (unreasonable):\n",
    "\n",
    "\\begin{equation*}\n",
    "\\mathrm{rev} = \\begin{cases}\n",
    "0,  & \\text{if customer churns} \\\\\n",
    "\\mathrm{rev}_1, & \\text{if customer stays}\n",
    "\\end{cases}\n",
    "\\end{equation*}\n",
    "\n",
    "The first task is to cast this setup as a *Markov Decision Process*"
   ]
  },
  {
   "cell_type": "code",
   "execution_count": 1,
   "metadata": {},
   "outputs": [],
   "source": [
    "import os\n",
    "from pathlib import Path\n",
    "import pickle\n",
    "\n",
    "from pprint import pprint\n",
    "\n",
    "import pandas as pd\n",
    "import numpy as np\n",
    "\n",
    "from sklearn.preprocessing import LabelBinarizer, StandardScaler, OneHotEncoder\n",
    "from sklearn.preprocessing import FunctionTransformer\n",
    "\n",
    "\n",
    "from sklearn_pandas import DataFrameMapper\n",
    "\n",
    "import fake_data_for_learning\n",
    "from fake_data_for_learning import SampleValue\n",
    "\n",
    "from risk_learning.config import filenames\n",
    "\n",
    "%matplotlib inline"
   ]
  },
  {
   "cell_type": "markdown",
   "metadata": {},
   "source": [
    "## Churn data"
   ]
  },
  {
   "cell_type": "code",
   "execution_count": 2,
   "metadata": {},
   "outputs": [
    {
     "data": {
      "text/html": [
       "<div>\n",
       "<style scoped>\n",
       "    .dataframe tbody tr th:only-of-type {\n",
       "        vertical-align: middle;\n",
       "    }\n",
       "\n",
       "    .dataframe tbody tr th {\n",
       "        vertical-align: top;\n",
       "    }\n",
       "\n",
       "    .dataframe thead th {\n",
       "        text-align: right;\n",
       "    }\n",
       "</style>\n",
       "<table border=\"1\" class=\"dataframe\">\n",
       "  <thead>\n",
       "    <tr style=\"text-align: right;\">\n",
       "      <th></th>\n",
       "      <th>year</th>\n",
       "      <th>gender</th>\n",
       "      <th>age</th>\n",
       "      <th>profession</th>\n",
       "      <th>action</th>\n",
       "      <th>churn</th>\n",
       "    </tr>\n",
       "  </thead>\n",
       "  <tbody>\n",
       "    <tr>\n",
       "      <th>0</th>\n",
       "      <td>2008</td>\n",
       "      <td>female</td>\n",
       "      <td>35-49</td>\n",
       "      <td>self-employed</td>\n",
       "      <td>0</td>\n",
       "      <td>0</td>\n",
       "    </tr>\n",
       "    <tr>\n",
       "      <th>1</th>\n",
       "      <td>2008</td>\n",
       "      <td>female</td>\n",
       "      <td>35-49</td>\n",
       "      <td>unemployed</td>\n",
       "      <td>0</td>\n",
       "      <td>1</td>\n",
       "    </tr>\n",
       "    <tr>\n",
       "      <th>2</th>\n",
       "      <td>2008</td>\n",
       "      <td>female</td>\n",
       "      <td>35-49</td>\n",
       "      <td>salaried</td>\n",
       "      <td>1</td>\n",
       "      <td>0</td>\n",
       "    </tr>\n",
       "    <tr>\n",
       "      <th>3</th>\n",
       "      <td>2008</td>\n",
       "      <td>female</td>\n",
       "      <td>20-34</td>\n",
       "      <td>student</td>\n",
       "      <td>0</td>\n",
       "      <td>0</td>\n",
       "    </tr>\n",
       "    <tr>\n",
       "      <th>4</th>\n",
       "      <td>2008</td>\n",
       "      <td>male</td>\n",
       "      <td>50-64</td>\n",
       "      <td>salaried</td>\n",
       "      <td>0</td>\n",
       "      <td>0</td>\n",
       "    </tr>\n",
       "  </tbody>\n",
       "</table>\n",
       "</div>"
      ],
      "text/plain": [
       "   year  gender    age     profession  action  churn\n",
       "0  2008  female  35-49  self-employed       0      0\n",
       "1  2008  female  35-49     unemployed       0      1\n",
       "2  2008  female  35-49       salaried       1      0\n",
       "3  2008  female  20-34        student       0      0\n",
       "4  2008    male  50-64       salaried       0      0"
      ]
     },
     "execution_count": 2,
     "metadata": {},
     "output_type": "execute_result"
    }
   ],
   "source": [
    "df = pd.read_csv(filenames.fake_churn)\n",
    "cols = ['year', 'gender', 'age', 'profession', 'action', 'churn']\n",
    "df[cols].head()"
   ]
  },
  {
   "cell_type": "code",
   "execution_count": 3,
   "metadata": {},
   "outputs": [],
   "source": [
    "def summarize_counts(data):\n",
    "    '''\n",
    "    Parameters\n",
    "    ----------\n",
    "    data : pandas.Series\n",
    "        Data whose counts are to be summarized\n",
    "    '''\n",
    "    counts = data.value_counts()\n",
    "    print(counts)\n",
    "    counts.sort_index().plot(kind='bar')"
   ]
  },
  {
   "cell_type": "code",
   "execution_count": 4,
   "metadata": {},
   "outputs": [
    {
     "name": "stdout",
     "output_type": "stream",
     "text": [
      "2014    144\n",
      "2013    142\n",
      "2008    135\n",
      "2009    128\n",
      "2017    121\n",
      "2016    120\n",
      "2011    112\n",
      "2010    112\n",
      "2012    104\n",
      "2015    100\n",
      "Name: year, dtype: int64\n"
     ]
    },
    {
     "data": {
      "image/png": "[encoded data removed]",
      "text/plain": [
       "<Figure size 432x288 with 1 Axes>"
      ]
     },
     "metadata": {
      "needs_background": "light"
     },
     "output_type": "display_data"
    }
   ],
   "source": [
    "summarize_counts(df['year'])"
   ]
  },
  {
   "cell_type": "code",
   "execution_count": 5,
   "metadata": {},
   "outputs": [
    {
     "name": "stdout",
     "output_type": "stream",
     "text": [
      "female    703\n",
      "male      515\n",
      "Name: gender, dtype: int64\n"
     ]
    },
    {
     "data": {
      "image/png": "[encoded data removed]",
      "text/plain": [
       "<Figure size 432x288 with 1 Axes>"
      ]
     },
     "metadata": {
      "needs_background": "light"
     },
     "output_type": "display_data"
    }
   ],
   "source": [
    "summarize_counts(df['gender'])"
   ]
  },
  {
   "cell_type": "code",
   "execution_count": 6,
   "metadata": {},
   "outputs": [
    {
     "name": "stdout",
     "output_type": "stream",
     "text": [
      "35-49    618\n",
      "50-64    329\n",
      "20-34    271\n",
      "Name: age, dtype: int64\n"
     ]
    },
    {
     "data": {
      "image/png": "[encoded data removed]",
      "text/plain": [
       "<Figure size 432x288 with 1 Axes>"
      ]
     },
     "metadata": {
      "needs_background": "light"
     },
     "output_type": "display_data"
    }
   ],
   "source": [
    "summarize_counts(df['age'])"
   ]
  },
  {
   "cell_type": "code",
   "execution_count": 7,
   "metadata": {},
   "outputs": [
    {
     "name": "stdout",
     "output_type": "stream",
     "text": [
      "salaried         528\n",
      "self-employed    307\n",
      "student          227\n",
      "unemployed       156\n",
      "Name: profession, dtype: int64\n"
     ]
    },
    {
     "data": {
      "image/png": "[encoded data removed]",
      "text/plain": [
       "<Figure size 432x288 with 1 Axes>"
      ]
     },
     "metadata": {
      "needs_background": "light"
     },
     "output_type": "display_data"
    }
   ],
   "source": [
    "summarize_counts(df['profession'])"
   ]
  },
  {
   "cell_type": "code",
   "execution_count": 8,
   "metadata": {},
   "outputs": [
    {
     "name": "stdout",
     "output_type": "stream",
     "text": [
      "0    987\n",
      "1    231\n",
      "Name: action, dtype: int64\n"
     ]
    },
    {
     "data": {
      "image/png": "[encoded data removed]",
      "text/plain": [
       "<Figure size 432x288 with 1 Axes>"
      ]
     },
     "metadata": {
      "needs_background": "light"
     },
     "output_type": "display_data"
    }
   ],
   "source": [
    "summarize_counts(df['action'])"
   ]
  },
  {
   "cell_type": "code",
   "execution_count": 9,
   "metadata": {},
   "outputs": [
    {
     "name": "stdout",
     "output_type": "stream",
     "text": [
      "0    618\n",
      "1    600\n",
      "Name: churn, dtype: int64\n"
     ]
    },
    {
     "data": {
      "image/png": "[encoded data removed]",
      "text/plain": [
       "<Figure size 432x288 with 1 Axes>"
      ]
     },
     "metadata": {
      "needs_background": "light"
     },
     "output_type": "display_data"
    }
   ],
   "source": [
    "summarize_counts(df['churn'])"
   ]
  },
  {
   "cell_type": "markdown",
   "metadata": {},
   "source": [
    "## Preprocess"
   ]
  },
  {
   "cell_type": "code",
   "execution_count": null,
   "metadata": {},
   "outputs": [],
   "source": []
  },
  {
   "cell_type": "code",
   "execution_count": 10,
   "metadata": {},
   "outputs": [
    {
     "data": {
      "text/html": [
       "<div>\n",
       "<style scoped>\n",
       "    .dataframe tbody tr th:only-of-type {\n",
       "        vertical-align: middle;\n",
       "    }\n",
       "\n",
       "    .dataframe tbody tr th {\n",
       "        vertical-align: top;\n",
       "    }\n",
       "\n",
       "    .dataframe thead th {\n",
       "        text-align: right;\n",
       "    }\n",
       "</style>\n",
       "<table border=\"1\" class=\"dataframe\">\n",
       "  <thead>\n",
       "    <tr style=\"text-align: right;\">\n",
       "      <th></th>\n",
       "      <th>gender</th>\n",
       "      <th>age_x0_20-34</th>\n",
       "      <th>age_x0_35-49</th>\n",
       "      <th>age_x0_50-64</th>\n",
       "      <th>profession_x0_salaried</th>\n",
       "      <th>profession_x0_self-employed</th>\n",
       "      <th>profession_x0_student</th>\n",
       "      <th>profession_x0_unemployed</th>\n",
       "      <th>action</th>\n",
       "    </tr>\n",
       "  </thead>\n",
       "  <tbody>\n",
       "    <tr>\n",
       "      <th>0</th>\n",
       "      <td>0.0</td>\n",
       "      <td>0.0</td>\n",
       "      <td>1.0</td>\n",
       "      <td>0.0</td>\n",
       "      <td>0.0</td>\n",
       "      <td>1.0</td>\n",
       "      <td>0.0</td>\n",
       "      <td>0.0</td>\n",
       "      <td>0.0</td>\n",
       "    </tr>\n",
       "    <tr>\n",
       "      <th>1</th>\n",
       "      <td>0.0</td>\n",
       "      <td>0.0</td>\n",
       "      <td>1.0</td>\n",
       "      <td>0.0</td>\n",
       "      <td>0.0</td>\n",
       "      <td>0.0</td>\n",
       "      <td>0.0</td>\n",
       "      <td>1.0</td>\n",
       "      <td>0.0</td>\n",
       "    </tr>\n",
       "    <tr>\n",
       "      <th>2</th>\n",
       "      <td>0.0</td>\n",
       "      <td>0.0</td>\n",
       "      <td>1.0</td>\n",
       "      <td>0.0</td>\n",
       "      <td>1.0</td>\n",
       "      <td>0.0</td>\n",
       "      <td>0.0</td>\n",
       "      <td>0.0</td>\n",
       "      <td>1.0</td>\n",
       "    </tr>\n",
       "    <tr>\n",
       "      <th>3</th>\n",
       "      <td>0.0</td>\n",
       "      <td>1.0</td>\n",
       "      <td>0.0</td>\n",
       "      <td>0.0</td>\n",
       "      <td>0.0</td>\n",
       "      <td>0.0</td>\n",
       "      <td>1.0</td>\n",
       "      <td>0.0</td>\n",
       "      <td>0.0</td>\n",
       "    </tr>\n",
       "    <tr>\n",
       "      <th>4</th>\n",
       "      <td>1.0</td>\n",
       "      <td>0.0</td>\n",
       "      <td>0.0</td>\n",
       "      <td>1.0</td>\n",
       "      <td>1.0</td>\n",
       "      <td>0.0</td>\n",
       "      <td>0.0</td>\n",
       "      <td>0.0</td>\n",
       "      <td>0.0</td>\n",
       "    </tr>\n",
       "  </tbody>\n",
       "</table>\n",
       "</div>"
      ],
      "text/plain": [
       "   gender  age_x0_20-34  age_x0_35-49  age_x0_50-64  profession_x0_salaried  \\\n",
       "0     0.0           0.0           1.0           0.0                     0.0   \n",
       "1     0.0           0.0           1.0           0.0                     0.0   \n",
       "2     0.0           0.0           1.0           0.0                     1.0   \n",
       "3     0.0           1.0           0.0           0.0                     0.0   \n",
       "4     1.0           0.0           0.0           1.0                     1.0   \n",
       "\n",
       "   profession_x0_self-employed  profession_x0_student  \\\n",
       "0                          1.0                    0.0   \n",
       "1                          0.0                    0.0   \n",
       "2                          0.0                    0.0   \n",
       "3                          0.0                    1.0   \n",
       "4                          0.0                    0.0   \n",
       "\n",
       "   profession_x0_unemployed  action  \n",
       "0                       0.0     0.0  \n",
       "1                       1.0     0.0  \n",
       "2                       0.0     1.0  \n",
       "3                       0.0     0.0  \n",
       "4                       0.0     0.0  "
      ]
     },
     "execution_count": 10,
     "metadata": {},
     "output_type": "execute_result"
    }
   ],
   "source": [
    "def id_map(x):\n",
    "    return x\n",
    "\n",
    "id_trans = FunctionTransformer(id_map, validate=True)\n",
    "\n",
    "mapper = DataFrameMapper([\n",
    "    ('gender', LabelBinarizer()),\n",
    "    (['age'], OneHotEncoder()),\n",
    "    (['profession'], OneHotEncoder()),\n",
    "    (['action'], id_trans)\n",
    "])\n",
    "\n",
    "data = pd.DataFrame(\n",
    "    mapper.fit_transform(df),\n",
    "    columns=mapper.transformed_names_\n",
    ")\n",
    "data.head()"
   ]
  },
  {
   "cell_type": "code",
   "execution_count": 11,
   "metadata": {},
   "outputs": [],
   "source": [
    "with open(filenames.churn_bn, 'rb') as f:\n",
    "    churn_bn = pickle.load(f)\n",
    "churn_rv = churn_bn.get_node('churn')"
   ]
  },
  {
   "cell_type": "code",
   "execution_count": 12,
   "metadata": {},
   "outputs": [
    {
     "name": "stdout",
     "output_type": "stream",
     "text": [
      "Have 1218 customers. First action is to pick one for contact according to some policy.\n",
      "Take policy of contacting first customer in list.\n"
     ]
    }
   ],
   "source": [
    "print(f\"Have {df.shape[0]} customers. First action is to pick one for contact according to some policy.\")\n",
    "print(\"Take policy of contacting first customer in list.\")"
   ]
  },
  {
   "cell_type": "code",
   "execution_count": 40,
   "metadata": {},
   "outputs": [
    {
     "name": "stdout",
     "output_type": "stream",
     "text": [
      "Current customer:\n",
      "{'age': '50-64', 'gender': 'male', 'profession': 'salaried'}\n",
      "\n",
      "With hidden nodes:\n",
      "{'action': 0,\n",
      " 'age': '50-64',\n",
      " 'churn': 0,\n",
      " 'gender': 'male',\n",
      " 'patience': 1,\n",
      " 'profession': 'salaried',\n",
      " 'thriftiness': 1,\n",
      " 'year': 2008}\n",
      "\n",
      "Simulated churn: [0 0 0 0 0 0 0 0 0 0]\n",
      "Mean of simulated churn: 0.0\n"
     ]
    }
   ],
   "source": [
    "idx=4\n",
    "record = df.to_dict(orient=\"records\")[idx]\n",
    "print('Current customer:')\n",
    "customer = {key: record[key] for key in record.keys() if key in ['age', 'gender', 'profession']}\n",
    "pprint(customer)\n",
    "\n",
    "\n",
    "\n",
    "print('\\nWith hidden nodes:')\n",
    "pprint(record)\n",
    "\n",
    "\n",
    "parent_values = {key: SampleValue(record[key], churn_bn.get_node(key).label_encoder) for key in record.keys() if key in ['patience', 'thriftiness']}\n",
    "# Assign action value to 1\n",
    "parent_values['action'] = SampleValue(1)\n",
    "res = churn_rv.rvs(parent_values=parent_values, size=10)\n",
    "print(f'\\nSimulated churn: {res}')\n",
    "print(f'Mean of simulated churn: {np.mean(res)}')"
   ]
  }
 ],
 "metadata": {
  "kernelspec": {
   "display_name": "Python 3",
   "language": "python",
   "name": "python3"
  },
  "language_info": {
   "codemirror_mode": {
    "name": "ipython",
    "version": 3
   },
   "file_extension": ".py",
   "mimetype": "text/x-python",
   "name": "python",
   "nbconvert_exporter": "python",
   "pygments_lexer": "ipython3",
   "version": "3.7.3"
  }
 },
 "nbformat": 4,
 "nbformat_minor": 2
}
