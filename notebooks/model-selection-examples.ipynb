{
 "cells": [
  {
   "cell_type": "markdown",
   "metadata": {},
   "source": [
    "## Model selection\n",
    "\n",
    "### Topics\n",
    "\n",
    "Out of scope: [feature engineering](https://en.wikipedia.org/wiki/Feature_engineering); we assume we already have good enough features.\n",
    "\n",
    "1. Separate out training and validation sets from available data.\n",
    "\n",
    "1. For each of the classification model families of logistic regression, decision trees, random forests and causal random forests, \n",
    "\n",
    "* fit the training data "
   ]
  },
  {
   "cell_type": "code",
   "execution_count": 1,
   "metadata": {},
   "outputs": [],
   "source": [
    "import os\n",
    "from pathlib import Path\n",
    "\n",
    "import pandas as pd\n",
    "from pandas.api.types import CategoricalDtype\n",
    "import numpy as np\n",
    "import xarray as xr\n",
    "\n",
    "from sklearn.model_selection import train_test_split\n",
    "from sklearn.linear_model import LogisticRegression\n",
    "from sklearn.tree import DecisionTreeClassifier\n",
    "from sklearn import tree\n",
    "from sklearn.ensemble import RandomForestClassifier\n",
    "\n",
    "from sklearn.metrics import precision_score\n",
    "\n",
    "from scipy.stats import pearsonr\n",
    "\n",
    "from fake_data_for_learning.contingency_tables import calculate_contingency_table\n",
    "\n",
    "from risk_learning.simpson import (\n",
    "    get_flat_combinations, \n",
    "    make_feature_combination_score_array,\n",
    "    compute_margin\n",
    ")"
   ]
  },
  {
   "cell_type": "code",
   "execution_count": 2,
   "metadata": {},
   "outputs": [
    {
     "name": "stdout",
     "output_type": "stream",
     "text": [
      "Shape of entire dataset: (10000, 4)\n"
     ]
    },
    {
     "data": {
      "text/html": [
       "<div>\n",
       "<style scoped>\n",
       "    .dataframe tbody tr th:only-of-type {\n",
       "        vertical-align: middle;\n",
       "    }\n",
       "\n",
       "    .dataframe tbody tr th {\n",
       "        vertical-align: top;\n",
       "    }\n",
       "\n",
       "    .dataframe thead th {\n",
       "        text-align: right;\n",
       "    }\n",
       "</style>\n",
       "<table border=\"1\" class=\"dataframe\">\n",
       "  <thead>\n",
       "    <tr style=\"text-align: right;\">\n",
       "      <th></th>\n",
       "      <th>gender</th>\n",
       "      <th>occupation</th>\n",
       "      <th>default</th>\n",
       "      <th>activity</th>\n",
       "    </tr>\n",
       "  </thead>\n",
       "  <tbody>\n",
       "    <tr>\n",
       "      <th>0</th>\n",
       "      <td>0</td>\n",
       "      <td>0</td>\n",
       "      <td>1</td>\n",
       "      <td>1</td>\n",
       "    </tr>\n",
       "    <tr>\n",
       "      <th>1</th>\n",
       "      <td>1</td>\n",
       "      <td>1</td>\n",
       "      <td>1</td>\n",
       "      <td>0</td>\n",
       "    </tr>\n",
       "    <tr>\n",
       "      <th>2</th>\n",
       "      <td>1</td>\n",
       "      <td>1</td>\n",
       "      <td>1</td>\n",
       "      <td>0</td>\n",
       "    </tr>\n",
       "    <tr>\n",
       "      <th>3</th>\n",
       "      <td>0</td>\n",
       "      <td>0</td>\n",
       "      <td>1</td>\n",
       "      <td>1</td>\n",
       "    </tr>\n",
       "    <tr>\n",
       "      <th>4</th>\n",
       "      <td>1</td>\n",
       "      <td>1</td>\n",
       "      <td>1</td>\n",
       "      <td>0</td>\n",
       "    </tr>\n",
       "  </tbody>\n",
       "</table>\n",
       "</div>"
      ],
      "text/plain": [
       "   gender  occupation  default  activity\n",
       "0       0           0        1         1\n",
       "1       1           1        1         0\n",
       "2       1           1        1         0\n",
       "3       0           0        1         1\n",
       "4       1           1        1         0"
      ]
     },
     "execution_count": 2,
     "metadata": {},
     "output_type": "execute_result"
    }
   ],
   "source": [
    "data_dir = Path(os.getcwd()) / 'data'\n",
    "\n",
    "file_read_params = dict(delimiter=',')\n",
    "target_col = 'default'\n",
    "non_target_cols = ['gender', 'occupation', 'activity']\n",
    "#non_target_cols = ['gender']\n",
    "default = pd.read_csv(\n",
    "    data_dir / 'default.csv', **file_read_params,\n",
    "    usecols=non_target_cols + [target_col]\n",
    ")\n",
    "print(f'Shape of entire dataset: {default.shape}')\n",
    "default.head()"
   ]
  },
  {
   "cell_type": "markdown",
   "metadata": {},
   "source": [
    "## Split data for model fitting"
   ]
  },
  {
   "cell_type": "code",
   "execution_count": 3,
   "metadata": {},
   "outputs": [
    {
     "name": "stdout",
     "output_type": "stream",
     "text": [
      "Shape of training fields: (6000, 3),\n",
      "Shape of target: (6000,)\n",
      "\n",
      "Shape of validation fields: (2000, 3),\n",
      "Shape of target: (2000,)\n"
     ]
    }
   ],
   "source": [
    "train_ratio = 0.6\n",
    "validate_ratio_after_train_split = 0.5\n",
    "seed = 42\n",
    "X_train, X_validate_test, y_train, y_validate_test = train_test_split(\n",
    "    default[non_target_cols], default[target_col], \n",
    "    train_size=train_ratio, random_state=seed\n",
    ")\n",
    "print(f'Shape of training fields: {X_train.shape},\\nShape of target: {y_train.shape}')\n",
    "\n",
    "X_validate, _, y_validate, _ = train_test_split(\n",
    "    X_validate_test, y_validate_test, \n",
    "    train_size = validate_ratio_after_train_split, random_state=seed\n",
    ")\n",
    "print(f'\\nShape of validation fields: {X_validate.shape},\\nShape of target: {y_validate.shape}')"
   ]
  },
  {
   "cell_type": "markdown",
   "metadata": {},
   "source": [
    "### A little Exploratory Data Analysis\n",
    "\n",
    "Very little."
   ]
  },
  {
   "cell_type": "code",
   "execution_count": 4,
   "metadata": {},
   "outputs": [],
   "source": [
    "# Value ranges can be guessed from data or extracted from IT system\n",
    "default_values = [0, 1]\n",
    "gender_values = [0, 1]\n",
    "occupation_values = [0, 1]\n",
    "activity_values = [0, 1]\n",
    "data_categories = dict(\n",
    "    default=CategoricalDtype(categories=default_values, ordered=True),\n",
    "    gender=CategoricalDtype(categories=gender_values, ordered=True),\n",
    "    occupation=CategoricalDtype(categories=occupation_values, ordered=True),\n",
    "    activity=CategoricalDtype(categories=activity_values, ordered=True)\n",
    ")\n",
    "\n",
    "# Recombine \n",
    "X_y_train = X_train.copy()\n",
    "X_y_train['default'] = y_train.values\n",
    "for column, c_type in data_categories.items():\n",
    "    X_y_train[column] = X_y_train[column].astype(c_type)\n",
    "    \n",
    "contingency_table = calculate_contingency_table(X_y_train[data_categories.keys()])"
   ]
  },
  {
   "cell_type": "code",
   "execution_count": 5,
   "metadata": {},
   "outputs": [
    {
     "name": "stdout",
     "output_type": "stream",
     "text": [
      "\n",
      "female empirical default rate 0.41395663956639567\n",
      "male empirical default rate 0.33267716535433073\n"
     ]
    }
   ],
   "source": [
    "female_default_rate = (\n",
    "    compute_margin(contingency_table, dict(default=1, gender=0 )) \n",
    "    / compute_margin(contingency_table, dict(gender=0))\n",
    ")\n",
    "print('\\nfemale empirical default rate', female_default_rate)\n",
    "male_default_rate = (\n",
    "    compute_margin(contingency_table, dict(default=1, gender=1)) \n",
    "    / compute_margin(contingency_table, dict(gender=1))\n",
    ")\n",
    "print('male empirical default rate', male_default_rate)"
   ]
  },
  {
   "cell_type": "code",
   "execution_count": 6,
   "metadata": {},
   "outputs": [
    {
     "name": "stdout",
     "output_type": "stream",
     "text": [
      "Correlation of ('gender', 'default'): (-0.0840399598926039, 7.036039034107705e-11)\n",
      "Correlation of ('activity', 'default'): (0.005948672464028015, 0.6450208454789655)\n",
      "Correlation of ('occupation', 'activity'): (0.12391011426762966, 5.790897188164096e-22)\n"
     ]
    }
   ],
   "source": [
    "pairs = [('gender', 'default'), ('activity', 'default'), ('occupation', 'activity')]\n",
    "for pair in pairs:\n",
    "    print(f'Correlation of {pair}: {pearsonr(X_y_train[pair[0]], X_y_train[pair[1]])}')"
   ]
  },
  {
   "cell_type": "code",
   "execution_count": 7,
   "metadata": {},
   "outputs": [],
   "source": [
    "# Other variables uses when evaluating different models\n",
    "gender_values = [0, 1]\n",
    "occupation_values = [0, 1]\n",
    "activity_values = [0, 1]\n",
    "feature_coords = dict(\n",
    "    gender=gender_values,\n",
    "    occupation=occupation_values,\n",
    "    activity=activity_values\n",
    ")\n",
    "feature_combinations = get_flat_combinations(feature_coords)"
   ]
  },
  {
   "cell_type": "markdown",
   "metadata": {},
   "source": [
    "## Fit models to training data and spot-check on validation data"
   ]
  },
  {
   "cell_type": "code",
   "execution_count": 8,
   "metadata": {},
   "outputs": [
    {
     "data": {
      "text/html": [
       "<div>\n",
       "<style scoped>\n",
       "    .dataframe tbody tr th:only-of-type {\n",
       "        vertical-align: middle;\n",
       "    }\n",
       "\n",
       "    .dataframe tbody tr th {\n",
       "        vertical-align: top;\n",
       "    }\n",
       "\n",
       "    .dataframe thead th {\n",
       "        text-align: right;\n",
       "    }\n",
       "</style>\n",
       "<table border=\"1\" class=\"dataframe\">\n",
       "  <thead>\n",
       "    <tr style=\"text-align: right;\">\n",
       "      <th></th>\n",
       "      <th>gender</th>\n",
       "      <th>occupation</th>\n",
       "      <th>activity</th>\n",
       "      <th>default</th>\n",
       "    </tr>\n",
       "  </thead>\n",
       "  <tbody>\n",
       "    <tr>\n",
       "      <th>8113</th>\n",
       "      <td>1</td>\n",
       "      <td>0</td>\n",
       "      <td>0</td>\n",
       "      <td>1</td>\n",
       "    </tr>\n",
       "    <tr>\n",
       "      <th>1562</th>\n",
       "      <td>0</td>\n",
       "      <td>0</td>\n",
       "      <td>0</td>\n",
       "      <td>0</td>\n",
       "    </tr>\n",
       "    <tr>\n",
       "      <th>5735</th>\n",
       "      <td>0</td>\n",
       "      <td>0</td>\n",
       "      <td>1</td>\n",
       "      <td>1</td>\n",
       "    </tr>\n",
       "    <tr>\n",
       "      <th>9834</th>\n",
       "      <td>0</td>\n",
       "      <td>1</td>\n",
       "      <td>0</td>\n",
       "      <td>0</td>\n",
       "    </tr>\n",
       "    <tr>\n",
       "      <th>5379</th>\n",
       "      <td>0</td>\n",
       "      <td>0</td>\n",
       "      <td>0</td>\n",
       "      <td>0</td>\n",
       "    </tr>\n",
       "  </tbody>\n",
       "</table>\n",
       "</div>"
      ],
      "text/plain": [
       "      gender  occupation  activity  default\n",
       "8113       1           0         0        1\n",
       "1562       0           0         0        0\n",
       "5735       0           0         1        1\n",
       "9834       0           1         0        0\n",
       "5379       0           0         0        0"
      ]
     },
     "execution_count": 8,
     "metadata": {},
     "output_type": "execute_result"
    }
   ],
   "source": [
    "first_n = 5\n",
    "idxes_first_n = X_validate.index[:first_n]\n",
    "X_validate_first_n = X_validate.loc[idxes_first_n, :]\n",
    "y_validate_first_n = y_validate[:first_n]\n",
    "sample_validate = X_validate_first_n.copy()\n",
    "sample_validate['default'] = y_validate_first_n\n",
    "sample_validate"
   ]
  },
  {
   "cell_type": "markdown",
   "metadata": {},
   "source": [
    "## Logistic regression"
   ]
  },
  {
   "cell_type": "code",
   "execution_count": 9,
   "metadata": {},
   "outputs": [
    {
     "data": {
      "text/plain": [
       "array([[0.50094174, 0.49905826],\n",
       "       [0.53805243, 0.46194757],\n",
       "       [0.50541907, 0.49458093],\n",
       "       [0.77512364, 0.22487636],\n",
       "       [0.53805243, 0.46194757]])"
      ]
     },
     "execution_count": 9,
     "metadata": {},
     "output_type": "execute_result"
    }
   ],
   "source": [
    "hyperparams = {\"C\": 0.5, \"random_state\": 42}\n",
    "clf = LogisticRegression(**hyperparams)\n",
    "clf.fit(X_train, y_train)\n",
    "clf.predict_proba(X_validate_first_n)"
   ]
  },
  {
   "cell_type": "code",
   "execution_count": 10,
   "metadata": {},
   "outputs": [
    {
     "data": {
      "text/plain": [
       "array([ True,  True,  True, ..., False, False,  True])"
      ]
     },
     "execution_count": 10,
     "metadata": {},
     "output_type": "execute_result"
    }
   ],
   "source": [
    "# Choose non-default decision threshold as mean of default=1 probabilities\n",
    "# NOTE choosing a good decision threshold deserves more attention than given here\n",
    "scores = clf.predict_proba(X_validate)\n",
    "default_scores = scores[:, 1]\n",
    "threshold = np.mean(default_scores)\n",
    "default_predict = default_scores > threshold\n",
    "default_predict"
   ]
  },
  {
   "cell_type": "code",
   "execution_count": 11,
   "metadata": {},
   "outputs": [
    {
     "data": {
      "text/plain": [
       "0.49279538904899134"
      ]
     },
     "execution_count": 11,
     "metadata": {},
     "output_type": "execute_result"
    }
   ],
   "source": [
    "precision_score(y_validate, default_predict)"
   ]
  },
  {
   "cell_type": "code",
   "execution_count": 12,
   "metadata": {},
   "outputs": [
    {
     "name": "stdout",
     "output_type": "stream",
     "text": [
      "<class 'sklearn.linear_model._logistic.LogisticRegression'> mean scores\n",
      "female: 0.35747547088955267, male: 0.3899837331005453\n"
     ]
    }
   ],
   "source": [
    "# Default scores by gender\n",
    "scores = clf.predict_proba(feature_combinations)[:, 1]\n",
    "score_array = make_feature_combination_score_array(feature_combinations, scores)\n",
    "mean_female_score = score_array.sel(**dict(gender=0)).mean().values\n",
    "mean_male_score = score_array.sel(**dict(gender=1)).mean().values\n",
    "print(clf.__class__, 'mean scores')\n",
    "print(f'female: {mean_female_score}, male: {mean_male_score}')"
   ]
  },
  {
   "cell_type": "markdown",
   "metadata": {},
   "source": [
    "## Decision tree"
   ]
  },
  {
   "cell_type": "code",
   "execution_count": 13,
   "metadata": {},
   "outputs": [
    {
     "data": {
      "text/plain": [
       "array([[0., 1.],\n",
       "       [1., 0.],\n",
       "       [0., 1.],\n",
       "       [1., 0.],\n",
       "       [1., 0.]])"
      ]
     },
     "execution_count": 13,
     "metadata": {},
     "output_type": "execute_result"
    }
   ],
   "source": [
    "hyperparams = {\"criterion\": \"gini\", \"random_state\": 42}\n",
    "clf = DecisionTreeClassifier(**hyperparams)\n",
    "clf.fit(X_train, y_train)\n",
    "clf.predict_proba(X_validate_first_n)"
   ]
  },
  {
   "cell_type": "code",
   "execution_count": 14,
   "metadata": {},
   "outputs": [
    {
     "data": {
      "text/plain": [
       "array([ True, False,  True, ..., False,  True, False])"
      ]
     },
     "execution_count": 14,
     "metadata": {},
     "output_type": "execute_result"
    }
   ],
   "source": [
    "scores = clf.predict_proba(X_validate)\n",
    "default_scores = scores[:, 1]\n",
    "threshold = np.mean(default_scores)\n",
    "default_predict = default_scores > threshold\n",
    "default_predict"
   ]
  },
  {
   "cell_type": "code",
   "execution_count": 15,
   "metadata": {},
   "outputs": [
    {
     "data": {
      "text/plain": [
       "1.0"
      ]
     },
     "execution_count": 15,
     "metadata": {},
     "output_type": "execute_result"
    }
   ],
   "source": [
    "precision_score(y_validate, default_predict)"
   ]
  },
  {
   "cell_type": "code",
   "execution_count": 16,
   "metadata": {},
   "outputs": [
    {
     "name": "stdout",
     "output_type": "stream",
     "text": [
      "<class 'sklearn.tree._classes.DecisionTreeClassifier'> mean scores\n",
      "female: 0.5, male: 0.5\n"
     ]
    }
   ],
   "source": [
    "# Default scores by gender\n",
    "scores = clf.predict_proba(feature_combinations)[:, 1]\n",
    "score_array = make_feature_combination_score_array(feature_combinations, scores)\n",
    "mean_female_score = score_array.sel(**dict(gender=0)).mean().values\n",
    "mean_male_score = score_array.sel(**dict(gender=1)).mean().values\n",
    "print(clf.__class__, 'mean scores')\n",
    "print(f'female: {mean_female_score}, male: {mean_male_score}')"
   ]
  },
  {
   "cell_type": "markdown",
   "metadata": {},
   "source": [
    "### Plot the decision tree"
   ]
  },
  {
   "cell_type": "code",
   "execution_count": 17,
   "metadata": {},
   "outputs": [
    {
     "name": "stderr",
     "output_type": "stream",
     "text": [
      "Warning: Could not load \"/usr/local/Cellar/graphviz/2.47.0/lib/graphviz/libgvplugin_pango.6.dylib\" - It was found, so perhaps one of its dependents was not.  Try ldd.\n",
      "Warning: Could not load \"/usr/local/Cellar/graphviz/2.47.0/lib/graphviz/libgvplugin_pango.6.dylib\" - It was found, so perhaps one of its dependents was not.  Try ldd.\n",
      "Warning: Could not load \"/usr/local/Cellar/graphviz/2.47.0/lib/graphviz/libgvplugin_pango.6.dylib\" - It was found, so perhaps one of its dependents was not.  Try ldd.\n"
     ]
    },
    {
     "data": {
      "text/plain": [
       "'iris.pdf'"
      ]
     },
     "execution_count": 17,
     "metadata": {},
     "output_type": "execute_result"
    }
   ],
   "source": [
    "import graphviz \n",
    "dot_data = tree.export_graphviz(clf, out_file=None) \n",
    "graph = graphviz.Source(dot_data) \n",
    "graph.render(\"iris\") "
   ]
  },
  {
   "cell_type": "code",
   "execution_count": 18,
   "metadata": {},
   "outputs": [
    {
     "data": {
      "image/png": "[encoded data removed]",
      "text/plain": [
       "<Figure size 432x288 with 1 Axes>"
      ]
     },
     "metadata": {
      "needs_background": "light"
     },
     "output_type": "display_data"
    }
   ],
   "source": [
    "tree.plot_tree(clf);"
   ]
  },
  {
   "cell_type": "markdown",
   "metadata": {},
   "source": [
    "### Random Forest Classifier"
   ]
  },
  {
   "cell_type": "code",
   "execution_count": 19,
   "metadata": {},
   "outputs": [
    {
     "data": {
      "text/plain": [
       "array([[0., 1.],\n",
       "       [1., 0.],\n",
       "       [0., 1.],\n",
       "       [1., 0.],\n",
       "       [1., 0.]])"
      ]
     },
     "execution_count": 19,
     "metadata": {},
     "output_type": "execute_result"
    }
   ],
   "source": [
    "hyperparams = {\"n_estimators\": 5, \"random_state\": 42}\n",
    "clf = RandomForestClassifier(**hyperparams)\n",
    "clf.fit(X_train, y_train)\n",
    "clf.predict_proba(X_validate_first_n)"
   ]
  },
  {
   "cell_type": "code",
   "execution_count": 20,
   "metadata": {},
   "outputs": [
    {
     "data": {
      "text/plain": [
       "array([ True, False,  True, ..., False,  True, False])"
      ]
     },
     "execution_count": 20,
     "metadata": {},
     "output_type": "execute_result"
    }
   ],
   "source": [
    "scores = clf.predict_proba(X_validate)\n",
    "default_scores = scores[:, 1]\n",
    "threshold = np.mean(default_scores)\n",
    "default_predict = default_scores > threshold\n",
    "default_predict"
   ]
  },
  {
   "cell_type": "code",
   "execution_count": 21,
   "metadata": {},
   "outputs": [
    {
     "data": {
      "text/plain": [
       "1.0"
      ]
     },
     "execution_count": 21,
     "metadata": {},
     "output_type": "execute_result"
    }
   ],
   "source": [
    "precision_score(y_validate, default_predict)"
   ]
  },
  {
   "cell_type": "code",
   "execution_count": 22,
   "metadata": {},
   "outputs": [
    {
     "name": "stdout",
     "output_type": "stream",
     "text": [
      "<class 'sklearn.ensemble._forest.RandomForestClassifier'> mean scores\n",
      "female: 0.5, male: 0.5\n"
     ]
    }
   ],
   "source": [
    "# Default scores by gender\n",
    "scores = clf.predict_proba(feature_combinations)[:, 1]\n",
    "score_array = make_feature_combination_score_array(feature_combinations, scores)\n",
    "mean_female_score = score_array.sel(**dict(gender=0)).mean().values\n",
    "mean_male_score = score_array.sel(**dict(gender=1)).mean().values\n",
    "print(clf.__class__, 'mean scores')\n",
    "print(f'female: {mean_female_score}, male: {mean_male_score}')"
   ]
  }
 ],
 "metadata": {
  "kernelspec": {
   "display_name": "Python 3 (ipykernel)",
   "language": "python",
   "name": "python3"
  },
  "language_info": {
   "codemirror_mode": {
    "name": "ipython",
    "version": 3
   },
   "file_extension": ".py",
   "mimetype": "text/x-python",
   "name": "python",
   "nbconvert_exporter": "python",
   "pygments_lexer": "ipython3",
   "version": "3.9.5"
  }
 },
 "nbformat": 4,
 "nbformat_minor": 2
}
