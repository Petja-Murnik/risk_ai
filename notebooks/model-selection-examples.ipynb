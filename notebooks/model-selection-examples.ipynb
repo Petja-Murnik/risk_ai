{
 "cells": [
  {
   "cell_type": "markdown",
   "metadata": {},
   "source": [
    "## Model selection\n",
    "\n",
    "### Topics\n",
    "\n",
    "Out of scope: [feature engineering](https://en.wikipedia.org/wiki/Feature_engineering); we assume we already have good enough features.\n",
    "\n",
    "1. Separate out training and validation sets from available data.\n",
    "\n",
    "1. For each of the classification model families of logistic regression, decision trees, random forests and causal random forests, \n",
    "\n",
    "* fit the training data "
   ]
  },
  {
   "cell_type": "code",
   "execution_count": null,
   "metadata": {},
   "outputs": [],
   "source": [
    "import os\n",
    "from pathlib import Path\n",
    "\n",
    "import pandas as pd\n",
    "from pandas.api.types import CategoricalDtype\n",
    "import numpy as np\n",
    "\n",
    "from sklearn.model_selection import train_test_split\n",
    "from sklearn.linear_model import LogisticRegression\n",
    "from sklearn.tree import DecisionTreeClassifier\n",
    "from sklearn.ensemble import RandomForestClassifier\n",
    "\n",
    "from sklearn.metrics import precision_score\n",
    "\n",
    "from scipy.stats import pearsonr\n",
    "\n",
    "from fake_data_for_learning.contingency_tables import calculate_contingency_table\n",
    "\n",
    "from risk_learning.simpson import compute_margin"
   ]
  },
  {
   "cell_type": "code",
   "execution_count": null,
   "metadata": {},
   "outputs": [],
   "source": [
    "data_dir = Path(os.getcwd()) / 'data'\n",
    "\n",
    "file_read_params = dict(delimiter=',')\n",
    "target_col = 'default'\n",
    "non_target_cols = ['gender', 'occupation', 'activity']\n",
    "#non_target_cols = ['gender']\n",
    "default = pd.read_csv(\n",
    "    data_dir / 'default.csv', **file_read_params,\n",
    "    usecols=non_target_cols + [target_col]\n",
    ")\n",
    "print(f'Shape of entire dataset: {default.shape}')\n",
    "default.head()"
   ]
  },
  {
   "cell_type": "markdown",
   "metadata": {},
   "source": [
    "## Split data for model fitting"
   ]
  },
  {
   "cell_type": "code",
   "execution_count": null,
   "metadata": {},
   "outputs": [],
   "source": [
    "train_ratio = 0.6\n",
    "validate_ratio_after_train_split = 0.5\n",
    "seed = 42\n",
    "X_train, X_validate_test, y_train, y_validate_test = train_test_split(\n",
    "    default[non_target_cols], default[target_col], \n",
    "    train_size=train_ratio, random_state=seed\n",
    ")\n",
    "print(f'Shape of training fields: {X_train.shape},\\nShape of target: {y_train.shape}')\n",
    "\n",
    "X_validate, _, y_validate, _ = train_test_split(\n",
    "    X_validate_test, y_validate_test, \n",
    "    train_size = validate_ratio_after_train_split, random_state=seed\n",
    ")\n",
    "print(f'\\nShape of validation fields: {X_validate.shape},\\nShape of target: {y_validate.shape}')"
   ]
  },
  {
   "cell_type": "markdown",
   "metadata": {},
   "source": [
    "### A little Exploratory Data Analysis\n",
    "\n",
    "Very little."
   ]
  },
  {
   "cell_type": "code",
   "execution_count": null,
   "metadata": {},
   "outputs": [],
   "source": [
    "# Value ranges can be guessed from data or extracted from IT system\n",
    "default_values = [0, 1]\n",
    "gender_values = [0, 1]\n",
    "occupation_values = [0, 1]\n",
    "activity_values = [0, 1]\n",
    "data_categories = dict(\n",
    "    default=CategoricalDtype(categories=default_values, ordered=True),\n",
    "    gender=CategoricalDtype(categories=gender_values, ordered=True),\n",
    "    occupation=CategoricalDtype(categories=occupation_values, ordered=True),\n",
    "    activity=CategoricalDtype(categories=activity_values, ordered=True)\n",
    ")\n",
    "\n",
    "# Recombine \n",
    "X_y_train = X_train.copy()\n",
    "X_y_train['default'] = y_train.values\n",
    "for column, c_type in data_categories.items():\n",
    "    X_y_train[column] = X_y_train[column].astype(c_type)\n",
    "    \n",
    "contingency_table = calculate_contingency_table(X_y_train[data_categories.keys()])"
   ]
  },
  {
   "cell_type": "code",
   "execution_count": null,
   "metadata": {},
   "outputs": [],
   "source": [
    "female_default_rate = (\n",
    "    compute_margin(contingency_table, dict(default=1, gender=0 )) \n",
    "    / compute_margin(contingency_table, dict(gender=0))\n",
    ")\n",
    "print('\\nfemale default rate', female_default_rate)\n",
    "male_default_rate = (\n",
    "    compute_margin(contingency_table, dict(default=1, gender=1)) \n",
    "    / compute_margin(contingency_table, dict(gender=1))\n",
    ")\n",
    "print('male default rate', male_default_rate)"
   ]
  },
  {
   "cell_type": "code",
   "execution_count": null,
   "metadata": {},
   "outputs": [],
   "source": [
    "pairs = [('gender', 'default'), ('activity', 'default'), ('occupation', 'activity')]\n",
    "for pair in pairs:\n",
    "    print(f'Correlation of {pair}: {pearsonr(X_y_train[pair[0]], X_y_train[pair[1]])}')"
   ]
  },
  {
   "cell_type": "markdown",
   "metadata": {},
   "source": [
    "## Fit modes to training data and spot-check on validation data"
   ]
  },
  {
   "cell_type": "code",
   "execution_count": null,
   "metadata": {},
   "outputs": [],
   "source": [
    "first_n = 5\n",
    "idxes_first_n = X_validate.index[:first_n]\n",
    "X_validate_first_n = X_validate.loc[idxes_first_n, :]\n",
    "y_validate_first_n = y_validate[:first_n]\n",
    "sample_validate = X_validate_first_n.copy()\n",
    "sample_validate['default'] = y_validate_first_n\n",
    "sample_validate"
   ]
  },
  {
   "cell_type": "markdown",
   "metadata": {},
   "source": [
    "## Logistic regression"
   ]
  },
  {
   "cell_type": "code",
   "execution_count": null,
   "metadata": {},
   "outputs": [],
   "source": [
    "hyperparams = {\"C\": 0.5}\n",
    "clf = LogisticRegression(**hyperparams)\n",
    "clf.fit(X_train, y_train)\n",
    "clf.predict_proba(X_validate_first_n)"
   ]
  },
  {
   "cell_type": "code",
   "execution_count": null,
   "metadata": {},
   "outputs": [],
   "source": [
    "# Choose non-default decision threshold as mean of default=1 probabilities\n",
    "# NOTE choosing a good decision threshold deserves more attention than given here\n",
    "scores = clf.predict_proba(X_validate)\n",
    "default_scores = scores[:, 1]\n",
    "threshold = np.mean(default_scores)\n",
    "default_predict = default_scores > threshold\n",
    "default_predict"
   ]
  },
  {
   "cell_type": "code",
   "execution_count": null,
   "metadata": {},
   "outputs": [],
   "source": [
    "precision_score(y_validate, default_predict)"
   ]
  },
  {
   "cell_type": "code",
   "execution_count": null,
   "metadata": {},
   "outputs": [],
   "source": [
    "feature_combinations = pd.DataFrame(\n",
    "    [\n",
    "        [0, 0, 0], # female, education, no-activity\n",
    "        [0, 0, 1], # female, education, activity\n",
    "        [0, 1, 0], # female, health, no-activity\n",
    "        [0, 1, 1], # female, health, activity\n",
    "        [1, 1, 0], # male, health, no-activity\n",
    "        [1, 1, 1], # male, health, activity\n",
    "        [1, 0, 0], # male, education, no-activity\n",
    "        [1, 0, 1], # male, education, activity\n",
    "\n",
    "    ], columns=['gender', 'occupation', 'activity']\n",
    ")\n",
    "\n",
    "clf.predict_proba(feature_combinations)"
   ]
  },
  {
   "cell_type": "code",
   "execution_count": null,
   "metadata": {},
   "outputs": [],
   "source": [
    "prob_default = clf.predict_proba(feature_combinations)[:, 1]\n",
    "np.mean(prob_default[:4])"
   ]
  },
  {
   "cell_type": "code",
   "execution_count": null,
   "metadata": {},
   "outputs": [],
   "source": [
    "np.mean(prob_default[4:])"
   ]
  },
  {
   "cell_type": "markdown",
   "metadata": {},
   "source": [
    "## Decision tree"
   ]
  },
  {
   "cell_type": "code",
   "execution_count": null,
   "metadata": {},
   "outputs": [],
   "source": [
    "hyperparams = {\"criterion\": \"gini\"}\n",
    "clf = DecisionTreeClassifier(**hyperparams)\n",
    "clf.fit(X_train, y_train)\n",
    "clf.predict_proba(X_validate_first_n)"
   ]
  },
  {
   "cell_type": "code",
   "execution_count": null,
   "metadata": {},
   "outputs": [],
   "source": [
    "scores = clf.predict_proba(X_validate)\n",
    "default_scores = scores[:, 1]\n",
    "threshold = np.mean(default_scores)\n",
    "default_predict = default_scores > threshold\n",
    "default_predict"
   ]
  },
  {
   "cell_type": "code",
   "execution_count": null,
   "metadata": {},
   "outputs": [],
   "source": [
    "precision_score(y_validate, default_predict)"
   ]
  },
  {
   "cell_type": "code",
   "execution_count": null,
   "metadata": {},
   "outputs": [],
   "source": [
    "# Probability of default given ...\n",
    "clf.predict_proba(feature_combinations)"
   ]
  },
  {
   "cell_type": "code",
   "execution_count": null,
   "metadata": {},
   "outputs": [],
   "source": [
    "prob_default = clf.predict_proba(feature_combinations)[:, 1]\n",
    "np.mean(prob_default[:4])"
   ]
  },
  {
   "cell_type": "code",
   "execution_count": null,
   "metadata": {},
   "outputs": [],
   "source": [
    "np.mean(prob_default[4:])"
   ]
  },
  {
   "cell_type": "markdown",
   "metadata": {},
   "source": [
    "### Random Forest Classifier"
   ]
  },
  {
   "cell_type": "code",
   "execution_count": null,
   "metadata": {},
   "outputs": [],
   "source": [
    "hyperparams = {'n_estimators': 5}\n",
    "clf = RandomForestClassifier(**hyperparams)\n",
    "clf.fit(X_train, y_train)\n",
    "clf.predict_proba(X_validate_first_n)"
   ]
  },
  {
   "cell_type": "code",
   "execution_count": null,
   "metadata": {},
   "outputs": [],
   "source": [
    "scores = clf.predict_proba(X_validate)\n",
    "default_scores = scores[:, 1]\n",
    "threshold = np.mean(default_scores)\n",
    "default_predict = default_scores > threshold\n",
    "default_predict"
   ]
  },
  {
   "cell_type": "code",
   "execution_count": null,
   "metadata": {},
   "outputs": [],
   "source": [
    "precision_score(y_validate, default_predict)"
   ]
  },
  {
   "cell_type": "code",
   "execution_count": null,
   "metadata": {},
   "outputs": [],
   "source": [
    "clf.predict_proba(feature_combinations)"
   ]
  },
  {
   "cell_type": "code",
   "execution_count": null,
   "metadata": {},
   "outputs": [],
   "source": [
    "prob_default = clf.predict_proba(feature_combinations)[:, 1]\n",
    "np.mean(prob_default[:4])"
   ]
  },
  {
   "cell_type": "code",
   "execution_count": null,
   "metadata": {},
   "outputs": [],
   "source": [
    "np.mean(prob_default[4:])"
   ]
  }
 ],
 "metadata": {
  "kernelspec": {
   "display_name": "Python 3 (ipykernel)",
   "language": "python",
   "name": "python3"
  },
  "language_info": {
   "codemirror_mode": {
    "name": "ipython",
    "version": 3
   },
   "file_extension": ".py",
   "mimetype": "text/x-python",
   "name": "python",
   "nbconvert_exporter": "python",
   "pygments_lexer": "ipython3",
   "version": "3.9.5"
  }
 },
 "nbformat": 4,
 "nbformat_minor": 2
}
