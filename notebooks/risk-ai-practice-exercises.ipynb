{
 "cells": [
  {
   "cell_type": "markdown",
   "id": "34424626",
   "metadata": {},
   "source": [
    "## Exercise: random seed sensitivity\n",
    "\n",
    "Difficulty: (*)\n",
    "\n",
    "Change the random seed parameter used for fitting models in the notebook [notebooks/model-selection-examples.ipynb](notebooks/model-selection-examples.ipynb). What fitted model values change?"
   ]
  },
  {
   "cell_type": "markdown",
   "id": "ae2677db",
   "metadata": {},
   "source": [
    "### Exercise: random seed sensitivity, II\n",
    "\n",
    "Difficulty: (**)\n",
    "\n",
    "Give reasons for your findings from the previous exercise."
   ]
  },
  {
   "cell_type": "markdown",
   "id": "e5206eea",
   "metadata": {},
   "source": [
    "## Exercise: Continuous integration / continuous delivery (or deployment)\n",
    "\n",
    "Difficulty: (**)\n",
    "\n",
    "List at least two critical functions that this repository as software is supposed to perform, and identify (e.g. by pasting in links to repository code) how these functions are performed in the repository's [ci / cd pipeline](https://github.com/munichpavel/risk-ai-workshop/blob/main/.github/workflows/ci-cd.yml).\n",
    "\n",
    "Please reference sources you use; Wikipedia is fine :)\n",
    "\n",
    "\n",
    "### Potentially useful resources\n",
    "\n",
    "* https://www.thoughtworks.com/continuous-integration\n",
    "* https://martinfowler.com/articles/continuousIntegration.html\n",
    "* https://www.martinfowler.com/bliki/ContinuousDelivery.html\n",
    "* https://martinfowler.com/articles/cd4ml.html"
   ]
  },
  {
   "cell_type": "markdown",
   "id": "2bf4281a",
   "metadata": {},
   "source": [
    "## Exercise: Threshold, or ratchet test\n",
    "\n",
    "Difficulty: (**)\n",
    "\n",
    "Explain what a threshold (or ratchet) test is and given an example of its use in this repository. Hint: the threshold in this repository is not a fixed metric, but rather a comparison between metrics."
   ]
  }
 ],
 "metadata": {
  "kernelspec": {
   "display_name": "Python 3 (ipykernel)",
   "language": "python",
   "name": "python3"
  },
  "language_info": {
   "codemirror_mode": {
    "name": "ipython",
    "version": 3
   },
   "file_extension": ".py",
   "mimetype": "text/x-python",
   "name": "python",
   "nbconvert_exporter": "python",
   "pygments_lexer": "ipython3",
   "version": "3.9.5"
  }
 },
 "nbformat": 4,
 "nbformat_minor": 5
}
