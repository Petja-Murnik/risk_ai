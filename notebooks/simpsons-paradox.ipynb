{
 "cells": [
  {
   "cell_type": "markdown",
   "id": "222e441b",
   "metadata": {},
   "source": [
    "# Simpson's paradox\n",
    "\n",
    "## Example from Causality Primer\n",
    "\n",
    "From [Primer](http://bayes.cs.ucla.edu/PRIMER/primer-ch1.pdf), table 1.1. is\n",
    "\n",
    "Subpopulations | No Treatment | Treatment \n",
    "------------ | ------------- | ------\n",
    "Male |  234 of 270 recover (87%) | 81 of 87 recover (93%) \n",
    "Female | 55 of 80 recover (69%) | 192 of 263 recover (73%)\n",
    "Total | 289 of 350 (83%)) | 273 of 350 (78%)\n",
    "\n",
    "\n",
    "We exchange the rows due to keys having to be in alpha order for the fake-data-for-learning package (see [this issue](https://github.com/munichpavel/fake-data-for-learning/issues/8)):\n",
    "\n",
    "Subpopulations | No Treatment | Treatment \n",
    "------------ | ------------- | ------\n",
    "Female | 55 of 80 recover (69%) | 192 of 263 recover (73%)\n",
    "Male |  234 of 270 recover (87%) | 81 of 87 recover (93%) \n",
    "Total | 289 of 350 (83%)) | 273 of 350 (78%)\n",
    "\n",
    "\n",
    "\n",
    "## Equations for Simpson paradox\n",
    "\n",
    "Keeping with the above example, we consider the counts above as being derived from a space of counts along dimensions $(\\mathrm{RECOVERED}, \\mathrm{GENDER}, \\mathrm{TREATED})$ of $\\mathbb{N}^2 \\times \\mathbb{N}^2  \\times \\mathbb{N}^2$:\n",
    "\n",
    "\\begin{align}\n",
    "n_{000} &= \\textrm{Count of non-recovered females who received no treatment} \\\\\n",
    "n_{100} &= \\textrm{Count of recovered females who received no treatment} \\\\\n",
    "n_{010} &= \\textrm{Count of non-recovered males who received no treatment} \\\\\n",
    "n_{110} &= \\textrm{Count of recovered males who received no treatment} \\\\\n",
    "n_{001} &= \\textrm{Count of non-recovered females who received treatment} \\\\\n",
    "n_{101} &= \\textrm{Count of recovered females who received treatment} \\\\\n",
    "n_{011} &= \\textrm{Count of non-recovered males who received treatment} \\\\\n",
    "n_{111} &= \\textrm{Count of recovered males who received treatment}\n",
    "\\end{align}\n",
    "\n",
    "To denote sums along one or more of the count dimensions of RECOVERED, GENDER, TREATED, we substitute the dimension along which we sum by a $+$. So $n_{00+}=147$ is the count of recovered females, regardless of treatment. Hence we can re-write the above table as \n",
    "\n",
    "Subpopulations | No Treatment | Treatment \n",
    ":----------: | :-----------: | :----: \n",
    "Female |  $n_{100}$ of $n_{+00}$ recover (ratio $\\frac{n_{100}}{n_{+00}}$) | $n_{101}$ of $n_{+01}$ recover (ratio $\\frac{n_{101}}{n_{+01}})$ \n",
    "Male | $n_{110}$ of $n_{+10}$  recover (ratio $\\frac{n_{110}}{n_{+10}})$ | $n_{111}$ of $n_{+11}$ recover (ratio $\\frac{n_{111}}{n_{+11}})$\n",
    "Total |  $n_{1+0}$ of $n_{++0}$  recover $\\left(\\frac{n_{1+1}}{n_{++0}}\\right)$ |  $n_{1+1}$ of $n_{++1}$  recover (ratio $\\frac{n_{1+1}}{n_{++1}})$ \n"
   ]
  },
  {
   "cell_type": "markdown",
   "id": "25454beb",
   "metadata": {},
   "source": [
    "## As contingency tables\n",
    "\n",
    "For computation, the $n_{ijk}$ lend itself to representing experiment outcomes grouped by sub-populations as contigency tables; see [Lectures on Algebraic Statistics](http://math.berkeley.edu/~bernd/owl.pdf), Section 1.1]. \n",
    "\n",
    "In this example, the contingency table is a 2x2x2 matrices of event counts. Using [xarray](http://xarray.pydata.org/en/stable/), we can define this matrix in a convenient form for defining, accessing and performing operations (e.g. the marginal sums of the $+$ notation)."
   ]
  },
  {
   "cell_type": "code",
   "execution_count": null,
   "id": "9d96f787",
   "metadata": {},
   "outputs": [],
   "source": [
    "import numpy as np\n",
    "import xarray as xr"
   ]
  },
  {
   "cell_type": "code",
   "execution_count": null,
   "id": "29af1c2a",
   "metadata": {},
   "outputs": [],
   "source": [
    "U = [\n",
    "    [\n",
    "        [25, 71],\n",
    "        [36, 6]\n",
    "        \n",
    "    ], \n",
    "    [\n",
    "         [55, 192],\n",
    "        [234, 81]\n",
    "    ]\n",
    "       \n",
    "]\n",
    "gender_vals = ['female', 'male']\n",
    "treated_vals = [0, 1]\n",
    "recovered_vals = [0, 1]\n",
    "counts = xr.DataArray(\n",
    "    U, \n",
    "    dims=('recovered', 'gender', 'treated'),\n",
    "    coords=[recovered_vals, gender_vals, treated_vals]\n",
    ")\n",
    "\n",
    "print(\"Check against counts from contingency table above:\\n\")\n",
    "events = [\n",
    "    dict(recovered=1, gender='female', treated=0),\n",
    "    dict(recovered=1, gender='female', treated=1),\n",
    "    dict(recovered=1, gender='male'),\n",
    "    dict(recovered=1, gender='male'),\n",
    "\n",
    "]\n",
    "\n",
    "for event in events:\n",
    "    marginal_counts = counts.sel(**event)\n",
    "    print(f'Counts for event(s) {event}: \\n{marginal_counts.values}')"
   ]
  },
  {
   "cell_type": "markdown",
   "id": "daaf1b02",
   "metadata": {},
   "source": [
    "Then the statement that the subpopulations receiving treatment recover better becomes the inequalities\n",
    "\n",
    "\\begin{align}\n",
    "\\frac{P(R=1|G=0, T=1)}{P(R=1 | G=0, T=0)} > 1\\\\\n",
    "\\frac{P(R=1|G=1, T=1)}{P(R=1|G=1, T=0)} > 1 \\label{eq:SPR} \\tag{SPR} \\\\\n",
    "\\end{align}\n",
    "\n",
    "which we call the *subpopulation odds-ratio* (SPR) inequalities.\n",
    "\n",
    "### More examples\n",
    "\n",
    "#### Equal recovery for one subpopulation\n",
    "\n",
    "In the below example, men show no difference in recovery between the treatment and non-treatment groups, and women fare better with treatment, yet overall no-treatment has a higher recovery ratio.\n",
    "\n",
    "Subpopulations | Treatment | No treatment\n",
    "------------ | ------------- | ----------\n",
    "Female | 22 of 30 recover (72%) | 7 of 10 recover (70%)\n",
    "Male | 9 of 10 recover (90%) | 27 of 30 recover (90%)\n",
    "Total | 31 of 40 (78%) | 34 of 40 recover (85%)\n",
    "\n",
    "In a variation of the above example, the male and overall populations experience no difference between treatment and no-treatment groups, but the female population recovers at a much higher rate with treatment.\n",
    "\n",
    "Subpopulations | Treatment | No treatment\n",
    "------------ | ------------- | ----------\n",
    "Female | 22 of 30 recover (72%) | 4 of 10 recover (40%)\n",
    "Male | 9 of 10 recover (90%) | 27 of 30 recover (90%)\n",
    "Total | 31 of 40 (78%) | 31 of 40 recover (78%)\n",
    "\n",
    "## References\n",
    "\n",
    "* JUDEA PEARL, MADELYN GLYMOUR, NICHOLAS P. JEWELL, [CAUSAL INFERENCE IN STATISTICS: A PRIMER](http://bayes.cs.ucla.edu/PRIMER/primer-ch1.pdf)\n",
    "* Mathias Drton, Bernd Sturmfels, Seth Sullivant, [Lectures on Algebraic Statistics](http://math.berkeley.edu/~bernd/owl.pdf)\n",
    "* Aleksandra B. Slavkovic, Stephen E. Fienberg, [Algebraic geometry of 2 × 2 contingency tables](http://personal.psu.edu/abs12/Research/Papers/slavfienPistone2009.pdf)"
   ]
  },
  {
   "cell_type": "code",
   "execution_count": null,
   "id": "8a4ba2c8",
   "metadata": {},
   "outputs": [],
   "source": [
    "U = [[\n",
    "        [1, 3],\n",
    "        [8, 6]\n",
    "    \n",
    "    ], [\n",
    "        [9, 27],\n",
    "        [22, 4]\n",
    "    ]]\n",
    "gender_vals = ['female', 'male']\n",
    "treated_vals = [0, 1]\n",
    "recovered_vals = [0, 1]\n",
    "counts = xr.DataArray(\n",
    "    U,\n",
    "    dims=(\"recovered\", \"treated\", \"gender\"),\n",
    "    coords=[recovered_vals, treated_vals, gender_vals]\n",
    "#     dims=(\"treated\", \"gender\", \"recovered\"),\n",
    "#     coords=[treated_vals, gender_vals, recovered_vals]\n",
    ")\n",
    "\n",
    "events = [\n",
    "    dict(treated=0, gender='female', recovered=0),\n",
    "    dict(treated=0, gender='female', recovered=1),\n",
    "    dict(treated=0, gender='male'),\n",
    "    dict(recovered=1)\n",
    "]\n",
    "\n",
    "for event in events:\n",
    "    marginal_counts = counts.sel(**event)\n",
    "    print(f'Counts for event(s) {event}: \\n{marginal_counts.values}')"
   ]
  },
  {
   "cell_type": "code",
   "execution_count": null,
   "id": "99fcc034",
   "metadata": {},
   "outputs": [],
   "source": [
    "U = [[\n",
    "        [4, 6],\n",
    "        [3, 27]\n",
    "    \n",
    "    ], [\n",
    "        [8, 22],\n",
    "        [1, 9]\n",
    "    ]]\n",
    "gender_vals = ['female', 'male']\n",
    "treated_vals = [0, 1]\n",
    "recovered_vals = [0, 1]\n",
    "counts = xr.DataArray(\n",
    "    U, \n",
    "    dims=(\"treated\", \"gender\", \"recovered\"),\n",
    "    coords=[treated_vals, gender_vals, recovered_vals]\n",
    ")\n",
    "\n",
    "events = [\n",
    "    dict(treated=0, gender='female', recovered=0),\n",
    "    dict(treated=0, gender='female', recovered=1),\n",
    "    dict(treated=0, gender='male'),\n",
    "    dict(recovered=1)\n",
    "]\n",
    "\n",
    "for event in events:\n",
    "    marginal_counts = counts.sel(**event)\n",
    "    print(f'Counts for event(s) {event}: \\n{marginal_counts.values}')"
   ]
  },
  {
   "cell_type": "markdown",
   "id": "030dd060",
   "metadata": {},
   "source": [
    "## Exercise: No-simpson\n",
    "\n",
    "Show that if $N_{ij}$ are all constant, then Simpson's paradox cannot occur."
   ]
  },
  {
   "cell_type": "markdown",
   "id": "3536379f",
   "metadata": {},
   "source": [
    "## Exercise: More no-Simpson\n",
    "\n",
    "Assuming that the treatment and non-treatment population are equal, show that if further $N_{00} = N_{01}$ and $N_{10} = N_{11}$, Simpson's paradox cannot occur."
   ]
  },
  {
   "cell_type": "markdown",
   "id": "7c3c9494",
   "metadata": {},
   "source": [
    "## Exercise: Even more no-Simpson\n",
    "\n",
    "Consider the case of a treatment in which all subpopulations react the same way, $p_{ijk} = \\lambda_k$ for $k=0, 1$. Show that Simpson's paradox cannot occur in this case (specifically, that the treatment and no-treatment population have the same recovery ratio)."
   ]
  },
  {
   "cell_type": "markdown",
   "id": "870cd1cd",
   "metadata": {},
   "source": [
    "### Exercise: Even morer no-Simpson\n",
    "\n",
    "Show that if $\\lambda_{00} = \\lambda_{10}$ and $\\lambda_{01} = \\lambda_{11}$ then Simpson's paradox cannot occur."
   ]
  },
  {
   "cell_type": "markdown",
   "id": "294c9b51",
   "metadata": {},
   "source": [
    "## Generating Simpson examples\n",
    "\n",
    "Let us further restrict to one sub-population for which we want to maximize the Simpson's skew, and further that the e.g. assume\n",
    "\n",
    "Maximize $\\lambda_{10} - \\lambda_{11} = \\epsilon$ subject to\n",
    "\n",
    "\\begin{align}\n",
    "\\lambda_{00} - \\lambda"
   ]
  },
  {
   "cell_type": "markdown",
   "id": "f9aa33cc",
   "metadata": {},
   "source": [
    "## ... to conditional probability matrices ..."
   ]
  },
  {
   "cell_type": "code",
   "execution_count": null,
   "id": "615526ea",
   "metadata": {},
   "outputs": [],
   "source": [
    "cpt = counts / counts.sum(dim='recovered')\n",
    "cpt"
   ]
  },
  {
   "cell_type": "code",
   "execution_count": null,
   "id": "a3b2bf16",
   "metadata": {},
   "outputs": [],
   "source": [
    "cpt.sel(treated=0, gender='female')\n",
    "cpt.sel(gender='female')"
   ]
  },
  {
   "cell_type": "code",
   "execution_count": null,
   "id": "162b840f",
   "metadata": {},
   "outputs": [],
   "source": [
    "counts.sel(gender='female').sum(dim=['recovered'])"
   ]
  },
  {
   "cell_type": "markdown",
   "id": "6912246b",
   "metadata": {},
   "source": [
    "### Exercise: independence of discrete probability distribution via determinants\n",
    "\n",
    "Show that the variables $G, T, R$ are independent if and only if the matrix $(p_{ijk})$ has rank 1.\n",
    "\n",
    "Are $G, T, R$ in the above (smaller) example independent?"
   ]
  },
  {
   "cell_type": "code",
   "execution_count": null,
   "id": "08004760",
   "metadata": {},
   "outputs": [],
   "source": [
    "n = float(counts.sum())\n",
    "p = counts / n\n",
    "p"
   ]
  },
  {
   "cell_type": "code",
   "execution_count": null,
   "id": "4b9ab277",
   "metadata": {},
   "outputs": [],
   "source": [
    "np.linalg.matrix_rank(p)"
   ]
  },
  {
   "cell_type": "code",
   "execution_count": null,
   "id": "e6092066",
   "metadata": {},
   "outputs": [],
   "source": [
    "26/40"
   ]
  },
  {
   "cell_type": "code",
   "execution_count": null,
   "id": "a597c664",
   "metadata": {},
   "outputs": [],
   "source": [
    "p.sel(treated=0).sum()"
   ]
  },
  {
   "cell_type": "code",
   "execution_count": null,
   "id": "55f657f6",
   "metadata": {},
   "outputs": [],
   "source": []
  }
 ],
 "metadata": {
  "kernelspec": {
   "display_name": "Python 3.7.3 64-bit ('rl': virtualenv)",
   "language": "python",
   "name": "python37364bitrlvirtualenvdad4f84657d1439fa4a24ab4688ad2b2"
  },
  "language_info": {
   "codemirror_mode": {
    "name": "ipython",
    "version": 3
   },
   "file_extension": ".py",
   "mimetype": "text/x-python",
   "name": "python",
   "nbconvert_exporter": "python",
   "pygments_lexer": "ipython3",
   "version": "3.7.6"
  }
 },
 "nbformat": 4,
 "nbformat_minor": 5
}
