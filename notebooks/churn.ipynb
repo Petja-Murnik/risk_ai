{
 "cells": [
  {
   "cell_type": "code",
   "execution_count": null,
   "metadata": {},
   "outputs": [],
   "source": [
    "import os\n",
    "from pathlib import Path\n",
    "\n",
    "import pandas as pd\n",
    "import numpy as np\n",
    "\n",
    "from sklearn.preprocessing import LabelBinarizer, StandardScaler\n",
    "from sklearn.model_selection import train_test_split\n",
    "from sklearn.linear_model import LogisticRegression\n",
    "from sklearn.pipeline import Pipeline\n",
    "from sklearn.model_selection import GridSearchCV\n",
    "\n",
    "from sklearn_pandas import DataFrameMapper\n",
    "\n",
    "from risk_learning.config import filenames\n",
    "\n",
    "%matplotlib inline"
   ]
  },
  {
   "cell_type": "code",
   "execution_count": null,
   "metadata": {
    "scrolled": true
   },
   "outputs": [],
   "source": [
    "df = pd.read_csv(filenames.fake_churn)\n",
    "print(df.info())"
   ]
  },
  {
   "cell_type": "code",
   "execution_count": null,
   "metadata": {},
   "outputs": [],
   "source": [
    "df.head()"
   ]
  },
  {
   "cell_type": "markdown",
   "metadata": {},
   "source": [
    "## Split off test set"
   ]
  },
  {
   "cell_type": "code",
   "execution_count": null,
   "metadata": {},
   "outputs": [],
   "source": [
    "# Look at records per year for time split\n",
    "df.groupby('year').size()"
   ]
  },
  {
   "cell_type": "code",
   "execution_count": null,
   "metadata": {},
   "outputs": [],
   "source": [
    "# Split off last three years for test set\n",
    "split_year = 2015\n",
    "test = df.loc[df['year']>=split_year, :]\n",
    "train_validate = df.loc[df['year'] < split_year]"
   ]
  },
  {
   "cell_type": "code",
   "execution_count": null,
   "metadata": {},
   "outputs": [],
   "source": [
    "data = train_validate[[c for c in df.columns if c != 'churn']]\n",
    "lb = LabelBinarizer()\n",
    "target = lb.fit_transform(train_validate['churn']).ravel()\n",
    "\n",
    "X_train, X_validate, y_train, y_validate = train_test_split(\n",
    "    data, target, test_size=0.25, random_state=42, stratify=target\n",
    ")"
   ]
  },
  {
   "cell_type": "markdown",
   "metadata": {},
   "source": [
    "## Transform features"
   ]
  },
  {
   "cell_type": "code",
   "execution_count": null,
   "metadata": {},
   "outputs": [],
   "source": [
    "mapper = DataFrameMapper([\n",
    "    ('gender', LabelBinarizer()),\n",
    "    (['age'], StandardScaler()),\n",
    "    ('profession', LabelBinarizer()), \n",
    "])"
   ]
  },
  {
   "cell_type": "markdown",
   "metadata": {},
   "source": [
    "## Combine in a pipeline"
   ]
  },
  {
   "cell_type": "code",
   "execution_count": null,
   "metadata": {},
   "outputs": [],
   "source": [
    "pipe = Pipeline([\n",
    "    ('featurize', mapper),\n",
    "    ('lr', LogisticRegression(solver='lbfgs', fit_intercept=False))\n",
    "    ])\n",
    "\n",
    "\n",
    "# Hyperparameter search\n",
    "param_grid = {\n",
    "    'lr__C': np.logspace(-4, 2, 20),\n",
    "}\n",
    "search = GridSearchCV(pipe, param_grid, iid=False, cv=5)\n",
    "search.fit(X_train, y_train)\n",
    "print(\"Best parameter (CV score=%0.3f):\" % search.best_score_)\n",
    "print(search.best_params_)\n",
    "print('Setting pipeline parameter(s)')\n",
    "pipe.set_params(**search.best_params_)\n",
    "\n",
    "\n",
    "# With selected hyperparameter, fit training data\n",
    "print('\\nFit coefficients to training set')\n",
    "pipe.fit(X_train, y_train)\n",
    "\n",
    "# Predict on validation data\n",
    "print('\\nEvaluate on validation set')\n",
    "pipe.score(X_validate, y_validate)\n"
   ]
  }
 ],
 "metadata": {
  "kernelspec": {
   "display_name": "Python 3",
   "language": "python",
   "name": "python3"
  },
  "language_info": {
   "codemirror_mode": {
    "name": "ipython",
    "version": 3
   },
   "file_extension": ".py",
   "mimetype": "text/x-python",
   "name": "python",
   "nbconvert_exporter": "python",
   "pygments_lexer": "ipython3",
   "version": "3.7.3"
  }
 },
 "nbformat": 4,
 "nbformat_minor": 2
}
