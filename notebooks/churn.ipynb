{
 "cells": [
  {
   "cell_type": "code",
   "execution_count": null,
   "metadata": {},
   "outputs": [],
   "source": [
    "import os\n",
    "from pathlib import Path\n",
    "\n",
    "import pandas as pd\n",
    "import numpy as np\n",
    "\n",
    "from sklearn.preprocessing import LabelBinarizer, StandardScaler\n",
    "from sklearn.model_selection import train_test_split\n",
    "from sklearn.linear_model import LogisticRegression\n",
    "from sklearn.ensemble import GradientBoostingClassifier\n",
    "from sklearn.pipeline import Pipeline\n",
    "from sklearn.model_selection import GridSearchCV\n",
    "\n",
    "from sklearn_pandas import DataFrameMapper\n",
    "\n",
    "from risk_learning.config import filenames\n",
    "from risk_learning.risk_learning import get_classifier_family_name\n",
    "\n",
    "%matplotlib inline"
   ]
  },
  {
   "cell_type": "code",
   "execution_count": null,
   "metadata": {
    "scrolled": true
   },
   "outputs": [],
   "source": [
    "df = pd.read_csv(filenames.fake_churn)\n",
    "print(df.info())"
   ]
  },
  {
   "cell_type": "code",
   "execution_count": null,
   "metadata": {},
   "outputs": [],
   "source": [
    "df.head()"
   ]
  },
  {
   "cell_type": "markdown",
   "metadata": {},
   "source": [
    "## Split off test set"
   ]
  },
  {
   "cell_type": "code",
   "execution_count": null,
   "metadata": {},
   "outputs": [],
   "source": [
    "# Look at records per year for time split\n",
    "df.groupby('year').size()"
   ]
  },
  {
   "cell_type": "code",
   "execution_count": null,
   "metadata": {},
   "outputs": [],
   "source": [
    "# Split off last three years for test set\n",
    "split_year = 2015\n",
    "test = df.loc[df['year']>=split_year, :]\n",
    "train_validate = df.loc[df['year'] < split_year]"
   ]
  },
  {
   "cell_type": "code",
   "execution_count": null,
   "metadata": {},
   "outputs": [],
   "source": [
    "data = train_validate[[c for c in df.columns if c != 'churn']]\n",
    "lb = LabelBinarizer()\n",
    "target = lb.fit_transform(train_validate['churn']).ravel()\n",
    "\n",
    "X_train, X_validate, y_train, y_validate = train_test_split(\n",
    "    data, target, test_size=0.25, random_state=42, stratify=target\n",
    ")"
   ]
  },
  {
   "cell_type": "markdown",
   "metadata": {},
   "source": [
    "## Put preprocessing and model selection in a pipeline"
   ]
  },
  {
   "cell_type": "code",
   "execution_count": null,
   "metadata": {},
   "outputs": [],
   "source": [
    "# Preprocessing\n",
    "mapper = DataFrameMapper([\n",
    "    ('gender', LabelBinarizer()),\n",
    "    (['age'], StandardScaler()),\n",
    "    ('profession', LabelBinarizer()), \n",
    "])\n",
    "\n",
    "pipe = Pipeline([\n",
    "    ('featurize', mapper),\n",
    "    ('lr', LogisticRegression(solver='lbfgs', fit_intercept=False))\n",
    "    ])\n",
    "\n",
    "def clf_model_selection(clf_families, param_grids):\n",
    "    for clf_family, param_grid in zip(clf_families, param_grids):\n",
    "        clf_family_name = get_classifier_family_name(clf_family)\n",
    "        print(clf_family_name)\n",
    "        pipe = Pipeline([\n",
    "            ('featurize', mapper),\n",
    "            (clf_family_name, clf_family)\n",
    "            ])\n",
    "        \n",
    "        # Hyperparameter search\n",
    "        clf_select = GridSearchCV(pipe, param_grid, iid=False, cv=5)\n",
    "        clf_select.fit(X_train, y_train)\n",
    "        print(\"Best parameter (CV score=%0.3f): {}\".format(clf_select.best_score_))\n",
    "        print(clf_select.best_params_)\n",
    "        print('Setting pipeline parameter(s)')\n",
    "\n",
    "\n",
    "        # With selected hyperparameter, fit on entire training data\n",
    "        print('\\nFit coefficients to training set')\n",
    "        clf_select.refit\n",
    "\n",
    "        # Predict on validation data\n",
    "        print('\\nEvaluate on validation set')\n",
    "        print(clf_select.score(X_validate, y_validate))\n",
    "        print('\\n')\n",
    "\n",
    "clf_families = [\n",
    "    LogisticRegression(solver='lbfgs', fit_intercept=False),\n",
    "    GradientBoostingClassifier(),\n",
    "]\n",
    "\n",
    "param_grids = [\n",
    "    {\n",
    "        get_classifier_family_name(LogisticRegression()) + '__C': np.logspace(-4, 2, 20),\n",
    "    },\n",
    "    {\n",
    "        get_classifier_family_name(GradientBoostingClassifier()) + '__max_depth': range(1,10),\n",
    "    }\n",
    "]\n",
    "clf_model_selection(clf_families, param_grids)"
   ]
  }
 ],
 "metadata": {
  "kernelspec": {
   "display_name": "Python 3",
   "language": "python",
   "name": "python3"
  },
  "language_info": {
   "codemirror_mode": {
    "name": "ipython",
    "version": 3
   },
   "file_extension": ".py",
   "mimetype": "text/x-python",
   "name": "python",
   "nbconvert_exporter": "python",
   "pygments_lexer": "ipython3",
   "version": "3.7.3"
  }
 },
 "nbformat": 4,
 "nbformat_minor": 2
}
