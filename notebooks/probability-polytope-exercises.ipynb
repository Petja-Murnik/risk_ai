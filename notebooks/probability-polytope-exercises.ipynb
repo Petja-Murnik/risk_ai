{
 "cells": [
  {
   "cell_type": "markdown",
   "metadata": {},
   "source": [
    "# Exercises for probability polytopes\n"
   ]
  },
  {
   "cell_type": "code",
   "execution_count": 1,
   "metadata": {},
   "outputs": [],
   "source": [
    "import os\n",
    "from pathlib import Path\n",
    "\n",
    "from itertools import product\n",
    "from math import floor\n",
    "\n",
    "import numpy as np\n",
    "import pandas as pd\n",
    "\n",
    "import matplotlib.pyplot as plt\n",
    "\n",
    "%matplotlib inline"
   ]
  },
  {
   "cell_type": "markdown",
   "metadata": {},
   "source": [
    "## Probability polytopes exercise: probability simplex\n",
    "\n",
    "* Describe in words and mathematical notation what the method `fake_data_for_learning.utils.get_simplex_sample` does. Difficulty: *\n",
    "\n",
    "* Test if the method `fake_data_for_learning.utils.get_simplex_sample` generates uniformly distributed samples from the probability simplex. Difficulty: **\n",
    "\n",
    "* Test if projecting samples to individual coordinate axes is uniformly distributed. Difficulty: **\n",
    "\n",
    "Answer the same questions for the following two versions. Be sure to consider more than one choice of ambient dimension."
   ]
  },
  {
   "cell_type": "code",
   "execution_count": 3,
   "metadata": {},
   "outputs": [],
   "source": [
    "def get_simplex_sample_v1(ambient_dimension):\n",
    "    \"\"\"\n",
    "    Get random element of the simplex of given ambient dimension\n",
    "\n",
    "    Parameters\n",
    "    ----------\n",
    "    ambient_dimension : int\n",
    "\n",
    "    Returns\n",
    "    -------\n",
    "    res : np.array\n",
    "    \"\"\"\n",
    "\n",
    "    res = np.random.uniform(size=ambient_dimension)\n",
    "    res = res / res.sum()\n",
    "\n",
    "    return res\n",
    "\n",
    "\n",
    "def get_simplex_sample_v2(ambient_dimension):\n",
    "    \"\"\"\n",
    "    Get random element of the probability simplex\n",
    "\n",
    "    Parameters\n",
    "    ----------\n",
    "    ambient_dimension : int\n",
    "\n",
    "    Returns\n",
    "    -------\n",
    "    res : np.array\n",
    "    \"\"\"\n",
    "\n",
    "    res = np.random.uniform(size=ambient_dimension-1)\n",
    "    res = np.sort(res)\n",
    "    res = np.insert(res, 0, 0)\n",
    "    res = np.append(res, 1)\n",
    "    res = np.diff(res)\n",
    "    \n",
    "    return res"
   ]
  },
  {
   "cell_type": "markdown",
   "metadata": {},
   "source": [
    "1. So basically it calculates a random element in a simplex( its vertices are of a type (0,0,0,...,0,1,0,...,0), where length of this vector is the ambient_dimension)"
   ]
  },
  {
   "cell_type": "code",
   "execution_count": 16,
   "metadata": {},
   "outputs": [
    {
     "name": "stdout",
     "output_type": "stream",
     "text": [
      "Chi-Square Statistic: 1999.363941462163\n",
      "P-Value: 1.0\n"
     ]
    }
   ],
   "source": [
    "from scipy.stats import chi2_contingency\n",
    "\n",
    "ambient_dimension = 4\n",
    "n_samples = 1000\n",
    "bins_per_dimension = 50\n",
    "\n",
    "samples = np.array([get_simplex_sample_v1(ambient_dimension) for _ in range(n_samples)])\n",
    "\n",
    "def test_uniformity_high_dim(samples, bins_per_dimension):\n",
    "    \"\"\"\n",
    "    Test if the samples are uniformly distributed over the simplex without reducing dimensions.\n",
    "\n",
    "    Parameters\n",
    "    ----------\n",
    "    samples : np.array\n",
    "    bins_per_dimension : int\n",
    "    \n",
    "    Returns\n",
    "    -------\n",
    "    chi2 : float\n",
    "    p_value : float\n",
    "    \"\"\"\n",
    "    n_samples, ambient_dimension = samples.shape\n",
    "    \n",
    "    # Create multidimensional bins\n",
    "    hist, edges = np.histogramdd(samples, bins=bins_per_dimension)\n",
    "    \n",
    "    # Flatten the histogram\n",
    "    hist = hist.flatten()\n",
    "    \n",
    "    # Calculate the expected counts assuming uniform distribution\n",
    "    expected_count = n_samples / len(hist)\n",
    "    expected = np.full_like(hist, expected_count)\n",
    "    \n",
    "    # Perform the Chi-Square test\n",
    "    chi2, p_value = chi2_contingency([hist, expected])[:2]\n",
    "    \n",
    "    return chi2, p_value\n",
    "\n",
    "chi2, p_value = test_uniformity_high_dim(samples, bins_per_dimension)\n",
    "\n",
    "print(f\"Chi-Square Statistic: {chi2}\")\n",
    "print(f\"P-Value: {p_value}\")\n"
   ]
  },
  {
   "cell_type": "markdown",
   "metadata": {},
   "source": [
    "2.For the values calculated above one can conclude that it really is uniformly distributed ( failed to reject the null hypothesis from the chi^2 test that it is not uniformly distributed)"
   ]
  },
  {
   "cell_type": "code",
   "execution_count": null,
   "metadata": {},
   "outputs": [],
   "source": []
  }
 ],
 "metadata": {
  "kernelspec": {
   "display_name": "Python 3",
   "language": "python",
   "name": "python3"
  },
  "language_info": {
   "codemirror_mode": {
    "name": "ipython",
    "version": 3
   },
   "file_extension": ".py",
   "mimetype": "text/x-python",
   "name": "python",
   "nbconvert_exporter": "python",
   "pygments_lexer": "ipython3",
   "version": "3.9.1"
  }
 },
 "nbformat": 4,
 "nbformat_minor": 2
}
